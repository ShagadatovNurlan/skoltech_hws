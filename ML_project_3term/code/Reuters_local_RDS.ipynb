{
 "cells": [
  {
   "cell_type": "code",
   "execution_count": 66,
   "metadata": {
    "collapsed": true
   },
   "outputs": [],
   "source": [
    "import numpy as np\n",
    "import pandas as pd\n",
    "from sklearn.datasets import fetch_20newsgroups\n",
    "from sklearn.feature_extraction.text import TfidfVectorizer\n",
    "from pprint import pprint\n",
    "from numpy.linalg import svd\n",
    "import scipy\n",
    "from sklearn.svm import LinearSVC\n",
    "from sklearn import metrics\n",
    "from sklearn.linear_model import LogisticRegression\n",
    "from sklearn.calibration import CalibratedClassifierCV\n",
    "import sys\n",
    "from joblib import Parallel, delayed\n",
    "import tempfile\n",
    "import os\n",
    "from joblib import load, dump\n",
    "import gc\n",
    "from nltk.corpus import stopwords \n",
    "import time\n",
    "from sklearn.model_selection import train_test_split\n",
    "from matplotlib import pyplot as plt\n",
    "%matplotlib inline\n",
    "from sklearn.svm import SVC\n",
    "import nltk\n",
    "\n",
    "from nltk.corpus import reuters\n",
    "from nltk.corpus import stopwords\n",
    "from sklearn.preprocessing import MultiLabelBinarizer\n",
    "from sklearn.feature_extraction.text import TfidfVectorizer\n",
    "\n",
    "from sklearn.multiclass import OneVsRestClassifier\n",
    "from sklearn.metrics import accuracy_score, fbeta_score\n",
    "\n",
    "import warnings\n",
    "warnings.filterwarnings(\"ignore\")\n",
    "\n",
    "n_classes = 90\n",
    "labels = reuters.categories()"
   ]
  },
  {
   "cell_type": "code",
   "execution_count": 2,
   "metadata": {
    "collapsed": true
   },
   "outputs": [],
   "source": [
    "vocabulary_path = '/home/ubuntu/Reuters/vocabulary_8000.txt'"
   ]
  },
  {
   "cell_type": "code",
   "execution_count": 3,
   "metadata": {
    "collapsed": true
   },
   "outputs": [],
   "source": [
    "def load_word_vectors(vocabulary_path):\n",
    "    with open(vocabulary_path) as f:\n",
    "        vocabulary = [x.strip() for x in f]\n",
    "    return vocabulary"
   ]
  },
  {
   "cell_type": "code",
   "execution_count": 4,
   "metadata": {
    "collapsed": true
   },
   "outputs": [],
   "source": [
    "def load_data(config={}, max_features=None, vocabulary=None):\n",
    "    \"\"\"\n",
    "    Load the Reuters dataset.\n",
    "    Returns\n",
    "    -------\n",
    "    data : dict\n",
    "        with keys 'x_train', 'x_test', 'y_train', 'y_test', 'labels'\n",
    "    \"\"\"\n",
    "    stop_words = stopwords.words(\"english\")\n",
    "    if max_features is not None:\n",
    "        vectorizer = TfidfVectorizer(stop_words=stop_words, token_pattern=r'(?u)\\b[^\\W\\d][^\\W\\d]+\\b', \n",
    "                                     max_features=max_features)\n",
    "    elif vocabulary is not None:\n",
    "        vectorizer = TfidfVectorizer(stop_words=stop_words, token_pattern=r'(?u)\\b[^\\W\\d][^\\W\\d]+\\b', \n",
    "                                     vocabulary=vocabulary)\n",
    "    else:\n",
    "        vectorizer = TfidfVectorizer(stop_words=stop_words, token_pattern=r'(?u)\\b[^\\W\\d][^\\W\\d]+\\b')\n",
    "    mlb = MultiLabelBinarizer()\n",
    "\n",
    "    documents = reuters.fileids()\n",
    "    test = [d for d in documents if d.startswith('test/')]\n",
    "    train = [d for d in documents if d.startswith('training/')]\n",
    "\n",
    "    docs = {}\n",
    "    docs['train'] = [reuters.raw(doc_id) for doc_id in train]\n",
    "    docs['test'] = [reuters.raw(doc_id) for doc_id in test]\n",
    "    xs = {'train': [], 'test': []}\n",
    "    xs['train'] = vectorizer.fit_transform(docs['train']).toarray()\n",
    "    xs['test'] = vectorizer.transform(docs['test']).toarray()\n",
    "    ys = {'train': [], 'test': []}\n",
    "    ys['train'] = mlb.fit_transform([reuters.categories(doc_id)\n",
    "                                     for doc_id in train])\n",
    "    ys['test'] = mlb.transform([reuters.categories(doc_id)\n",
    "                                for doc_id in test])\n",
    "    data = {'x_train': xs['train'], 'y_train': ys['train'],\n",
    "            'x_test': xs['test'], 'y_test': ys['test'],\n",
    "            'labels': globals()[\"labels\"]}\n",
    "    return data, vectorizer\n",
    "\n",
    "\n",
    "def load_data_simple():\n",
    "    mlb = MultiLabelBinarizer()\n",
    "    documents = reuters.fileids()\n",
    "    test = [d for d in documents if d.startswith('test/')]\n",
    "    train = [d for d in documents if d.startswith('training/')]\n",
    "\n",
    "    docs = {}\n",
    "    docs['train'] = [reuters.raw(doc_id) for doc_id in train]\n",
    "    docs['test'] = [reuters.raw(doc_id) for doc_id in test]\n",
    "    ys = {'train': [], 'test': []}\n",
    "    ys['train'] = mlb.fit_transform([reuters.categories(doc_id)\n",
    "                                     for doc_id in train])\n",
    "    ys['test'] = mlb.transform([reuters.categories(doc_id)\n",
    "                                for doc_id in test])\n",
    "    data = {'x_train': docs['train'], 'y_train': ys['train'],\n",
    "            'x_test': docs['test'], 'y_test': ys['test'],\n",
    "            'labels': globals()[\"labels\"]}\n",
    "    return data"
   ]
  },
  {
   "cell_type": "code",
   "execution_count": 5,
   "metadata": {
    "collapsed": true
   },
   "outputs": [],
   "source": [
    "data = load_data_simple()"
   ]
  },
  {
   "cell_type": "code",
   "execution_count": 6,
   "metadata": {},
   "outputs": [
    {
     "name": "stdout",
     "output_type": "stream",
     "text": [
      "7769 (7769, 90) 3019 (3019, 90)\n"
     ]
    }
   ],
   "source": [
    "print(len(data['x_train']), data['y_train'].shape, len(data['x_test']), data['y_test'].shape)"
   ]
  },
  {
   "cell_type": "code",
   "execution_count": 7,
   "metadata": {
    "collapsed": true
   },
   "outputs": [],
   "source": [
    "def filter_data(data, documents_number_threshold=10):\n",
    "    indices = np.argwhere(data['y_train'].sum(0) >= documents_number_threshold).ravel()\n",
    "    documents_numbers = data['y_train'][:, indices].sum(1)\n",
    "    \n",
    "    bad_documents = np.argwhere(documents_numbers == 0).ravel()\n",
    "    good_documents = np.array(sorted(set(range(data['y_train'].shape[0])) - set(bad_documents)))\n",
    "\n",
    "    documents_numbers_test = data['y_test'][:, indices].sum(1)\n",
    "    bad_documents_test = np.argwhere(documents_numbers_test == 0).ravel()\n",
    "    good_documents_test = np.array(sorted(set(range(data['y_test'].shape[0])) - set(bad_documents_test)))\n",
    "\n",
    "    data_new = {}\n",
    "    data_new['x_train'] = [data['x_train'][doc_index] for doc_index in good_documents]\n",
    "    data_new['y_train'] = data['y_train'][good_documents][:, indices]\n",
    "\n",
    "    data_new['x_test'] = [data['x_test'][doc_index] for doc_index in good_documents_test]\n",
    "    data_new['y_test'] = data['y_test'][good_documents_test][:, indices]\n",
    "    return data_new"
   ]
  },
  {
   "cell_type": "code",
   "execution_count": 8,
   "metadata": {
    "collapsed": true
   },
   "outputs": [],
   "source": [
    "data_new = filter_data(data, documents_number_threshold=10)"
   ]
  },
  {
   "cell_type": "code",
   "execution_count": 9,
   "metadata": {},
   "outputs": [
    {
     "name": "stdout",
     "output_type": "stream",
     "text": [
      "7741 (7741, 60) 2998 (2998, 60)\n"
     ]
    }
   ],
   "source": [
    "print(len(data_new['x_train']), data_new['y_train'].shape, len(data_new['x_test']), data_new['y_test'].shape)"
   ]
  },
  {
   "cell_type": "code",
   "execution_count": 10,
   "metadata": {},
   "outputs": [
    {
     "data": {
      "text/plain": [
       "1     6570\n",
       "2      865\n",
       "3      178\n",
       "4       61\n",
       "5       35\n",
       "6       18\n",
       "7        6\n",
       "9        4\n",
       "8        2\n",
       "10       1\n",
       "12       1\n",
       "dtype: int64"
      ]
     },
     "execution_count": 10,
     "metadata": {},
     "output_type": "execute_result"
    }
   ],
   "source": [
    "# documents number distribution:\n",
    "pd.value_counts(data_new['y_train'].sum(1))"
   ]
  },
  {
   "cell_type": "code",
   "execution_count": 11,
   "metadata": {},
   "outputs": [
    {
     "name": "stdout",
     "output_type": "stream",
     "text": [
      "Train: (7741, 7169)\n",
      "Test: (2998, 7169)\n"
     ]
    }
   ],
   "source": [
    "stop_words = stopwords.words(\"english\")\n",
    "vocabulary = load_word_vectors(vocabulary_path)\n",
    "vectorizer = TfidfVectorizer(stop_words='english', token_pattern=r'(?u)\\b[^\\W\\d][^\\W\\d]+\\b',\n",
    "                             vocabulary=vocabulary)\n",
    "\n",
    "vectors = vectorizer.fit_transform(data_new['x_train'])\n",
    "vectors_test = vectorizer.transform(data_new['x_test'])\n",
    "\n",
    "labels_train = data_new['y_train']\n",
    "labels_test = data_new['y_test']\n",
    "\n",
    "\n",
    "print ('Train:',vectors.shape)\n",
    "print ('Test:',vectors_test.shape)"
   ]
  },
  {
   "cell_type": "code",
   "execution_count": 12,
   "metadata": {
    "collapsed": true
   },
   "outputs": [],
   "source": [
    "def tr_svd(X, n_comp):\n",
    "    U, S, Vh = scipy.sparse.linalg.svds(X, n_comp)\n",
    "    S = np.diag(S[::-1])\n",
    "    U = U[:, ::-1]\n",
    "    Vh = Vh[::-1,:]\n",
    "    return U, S, Vh"
   ]
  },
  {
   "cell_type": "code",
   "execution_count": 58,
   "metadata": {
    "collapsed": true
   },
   "outputs": [],
   "source": [
    "def fit_predict_class_c_local(X_train, y_train, X_test, class_c, n_comp,real_clf):\n",
    "    y_train_transformed = np.zeros(y_train.shape[0])\n",
    "    y_train_transformed = y_train[:,class_c]\n",
    "    space_indices = np.argwhere(y_train[:,class_c] == 1).reshape(-1,)\n",
    "    non_space_indices = np.argwhere(y_train[:,class_c] == 0).reshape(-1,)\n",
    "    n = len(space_indices)\n",
    "    X_1 = X_train[space_indices]\n",
    "    X_2 = X_train[non_space_indices]\n",
    "    y_1 = y_train_transformed[space_indices]\n",
    "    y_2 = y_train_transformed[non_space_indices]\n",
    "    if (n_comp<min(X_1.shape)):\n",
    "        u,s,vh = tr_svd(X_1, n_comp)\n",
    "    else:\n",
    "        u,s,vh = tr_svd(X_1, min(X_1.shape)-1)\n",
    "    X_1_transformed = u @ s\n",
    "    X_2_transformed = X_2 @ vh.T\n",
    "    X = np.vstack((X_1_transformed, X_2_transformed))\n",
    "    y = np.hstack((y_1, y_2))        \n",
    "    X_test_transformed = X_test @ vh.T\n",
    "    real_clf.fit(X, y)\n",
    "    decisions = real_clf.predict(X_test_transformed)\n",
    "    return decisions\n",
    "\n",
    "def fit_predict_local(X_train, y_train,X_test,n_comp,real_clf):\n",
    "    n_classes = y_train.shape[1]\n",
    "    decisions = []\n",
    "    \n",
    "    for i in range(n_classes):\n",
    "        decisions.append(fit_predict_class_c_local(X_train, y_train,X_test,class_c = i,\n",
    "                                            n_comp=n_comp,real_clf=real_clf))\n",
    "    \n",
    "    decisions = np.vstack(decisions)\n",
    "    pred = decisions.T\n",
    "    return pred"
   ]
  },
  {
   "cell_type": "code",
   "execution_count": 59,
   "metadata": {
    "collapsed": true
   },
   "outputs": [],
   "source": [
    "def res_append_C_local(X_train, y_train,X_test, y_test,component_list,c):\n",
    "    results = {}\n",
    "    for n_comp in component_list:\n",
    "        real_clf = LinearSVC(C = c)\n",
    "        t0 = time.time()\n",
    "        pred = fit_predict_local(X_train, y_train,X_test,n_comp,real_clf)\n",
    "        print (c, ' ' , n_comp, '---->F1 score=',metrics.f1_score(y_test, pred, average='weighted'), \\\n",
    "                   'time passed: ', time.time() - t0,'\\n')\n",
    "        results[n_comp] = pred\n",
    "    return results"
   ]
  },
  {
   "cell_type": "code",
   "execution_count": 106,
   "metadata": {
    "collapsed": true
   },
   "outputs": [],
   "source": [
    "x_train, x_validate, y_train, y_validate = train_test_split(vectors, labels_train, \n",
    "                                                            test_size = 0.25, random_state =42)\n",
    "initial_clf = LinearSVC(C=0.1, random_state = 42)\n",
    "real_clf = LinearSVC(C=1, random_state=42)\n",
    "n_comp = 100\n",
    "components_list = [10,50, 100,300,500]\n",
    "c_params = [0.01, 0.1, 1, 10, 100, 120, 150]"
   ]
  },
  {
   "cell_type": "code",
   "execution_count": 107,
   "metadata": {},
   "outputs": [
    {
     "name": "stdout",
     "output_type": "stream",
     "text": [
      "1   10 ---->F1 score= 0.745788876817 time passed:  2.8865463733673096 \n",
      "\n",
      "0.01   10 ---->F1 score= 0.279192908283 time passed:  3.492760181427002 \n",
      "\n",
      "0.1   10 ---->F1 score= 0.591332306492 time passed:  3.7318637371063232 \n",
      "\n",
      "10   10 ---->F1 score= 0.779733755839 time passed:  5.78908634185791 \n",
      "\n",
      "0.1   50 ---->F1 score= 0.645555606731 time passed:  5.774292707443237 \n",
      "\n",
      "1   50 ---->F1 score= 0.795510466784 time passed:  6.655402183532715 \n",
      "\n",
      "0.01   50 ---->F1 score= 0.300562285548 time passed:  6.2601637840271 \n",
      "\n",
      "10   50 ---->F1 score= 0.824206095201 time passed:  9.239688396453857 \n",
      "\n",
      "0.1   100 ---->F1 score= 0.666170856842 time passed:  9.38809061050415 \n",
      "\n",
      "1   100 ---->F1 score= 0.814553227264 time passed:  9.791173219680786 \n",
      "\n",
      "0.01   100 ---->F1 score= 0.304673431098 time passed:  11.418238162994385 \n",
      "\n",
      "10   100 ---->F1 score= 0.839251904719 time passed:  13.283432006835938 \n",
      "\n",
      "0.1   300 ---->F1 score= 0.682515073839 time passed:  19.21051263809204 \n",
      "\n",
      "1   300 ---->F1 score= 0.829242157003 time passed:  20.54053044319153 \n",
      "\n",
      "0.01   300 ---->F1 score= 0.317527061207 time passed:  19.26588749885559 \n",
      "\n",
      "10   300 ---->F1 score= 0.849474970754 time passed:  22.651118278503418 \n",
      "\n",
      "0.1   500 ---->F1 score= 0.687576359329 time passed:  39.920939922332764 \n",
      "\n",
      "1   500 ---->F1 score= 0.832869504759 time passed:  38.92332696914673 \n",
      "\n",
      "0.01   500 ---->F1 score= 0.322197395212 time passed:  40.50668978691101 \n",
      "\n",
      "100   10 ---->F1 score= 0.779595763552 time passed:  9.797018766403198 \n",
      "\n",
      "120   10 ---->F1 score= 0.777962942732 time passed:  10.883546113967896 \n",
      "\n",
      "150   10 ---->F1 score= 0.777653968397 time passed:  10.290194511413574 \n",
      "\n",
      "10   500 ---->F1 score= 0.849321920331 time passed:  48.7086284160614 \n",
      "\n",
      "100   50 ---->F1 score= 0.822554116997 time passed:  15.658087968826294 \n",
      "\n",
      "150   50 ---->F1 score= 0.821037937007 time passed:  15.304089069366455 \n",
      "\n",
      "120   50 ---->F1 score= 0.82012044131 time passed:  17.072445392608643 \n",
      "\n",
      "100   100 ---->F1 score= 0.834795180343 time passed:  16.881035566329956 \n",
      "\n",
      "120   100 ---->F1 score= 0.831424962791 time passed:  19.331827640533447 \n",
      "\n",
      "150   100 ---->F1 score= 0.830431882662 time passed:  20.25768756866455 \n",
      "\n",
      "100   300 ---->F1 score= 0.838608618247 time passed:  32.68374514579773 \n",
      "\n",
      "120   300 ---->F1 score= 0.837575349503 time passed:  33.197473764419556 \n",
      "\n",
      "150   300 ---->F1 score= 0.8341622968 time passed:  33.400195360183716 \n",
      "\n"
     ]
    },
    {
     "name": "stderr",
     "output_type": "stream",
     "text": [
      "Process ForkPoolWorker-41:\n",
      "Traceback (most recent call last):\n"
     ]
    },
    {
     "ename": "KeyboardInterrupt",
     "evalue": "",
     "output_type": "error",
     "traceback": [
      "\u001b[0;31m---------------------------------------------------------------------------\u001b[0m",
      "\u001b[0;31mKeyboardInterrupt\u001b[0m                         Traceback (most recent call last)",
      "\u001b[0;32m<ipython-input-107-10ff334c834a>\u001b[0m in \u001b[0;36m<module>\u001b[0;34m()\u001b[0m\n\u001b[1;32m      1\u001b[0m results_c_local = Parallel(n_jobs=4)(delayed(res_append_C_local)(x_train, y_train,x_validate, y_validate,\n\u001b[0;32m----> 2\u001b[0;31m                                       components_list,c)for c in c_params)\n\u001b[0m",
      "\u001b[0;32m~/anaconda3/lib/python3.6/site-packages/joblib/parallel.py\u001b[0m in \u001b[0;36m__call__\u001b[0;34m(self, iterable)\u001b[0m\n\u001b[1;32m    787\u001b[0m                 \u001b[0;31m# consumption.\u001b[0m\u001b[0;34m\u001b[0m\u001b[0;34m\u001b[0m\u001b[0m\n\u001b[1;32m    788\u001b[0m                 \u001b[0mself\u001b[0m\u001b[0;34m.\u001b[0m\u001b[0m_iterating\u001b[0m \u001b[0;34m=\u001b[0m \u001b[0;32mFalse\u001b[0m\u001b[0;34m\u001b[0m\u001b[0m\n\u001b[0;32m--> 789\u001b[0;31m             \u001b[0mself\u001b[0m\u001b[0;34m.\u001b[0m\u001b[0mretrieve\u001b[0m\u001b[0;34m(\u001b[0m\u001b[0;34m)\u001b[0m\u001b[0;34m\u001b[0m\u001b[0m\n\u001b[0m\u001b[1;32m    790\u001b[0m             \u001b[0;31m# Make sure that we get a last message telling us we are done\u001b[0m\u001b[0;34m\u001b[0m\u001b[0;34m\u001b[0m\u001b[0m\n\u001b[1;32m    791\u001b[0m             \u001b[0melapsed_time\u001b[0m \u001b[0;34m=\u001b[0m \u001b[0mtime\u001b[0m\u001b[0;34m.\u001b[0m\u001b[0mtime\u001b[0m\u001b[0;34m(\u001b[0m\u001b[0;34m)\u001b[0m \u001b[0;34m-\u001b[0m \u001b[0mself\u001b[0m\u001b[0;34m.\u001b[0m\u001b[0m_start_time\u001b[0m\u001b[0;34m\u001b[0m\u001b[0m\n",
      "\u001b[0;32m~/anaconda3/lib/python3.6/site-packages/joblib/parallel.py\u001b[0m in \u001b[0;36mretrieve\u001b[0;34m(self)\u001b[0m\n\u001b[1;32m    697\u001b[0m             \u001b[0;32mtry\u001b[0m\u001b[0;34m:\u001b[0m\u001b[0;34m\u001b[0m\u001b[0m\n\u001b[1;32m    698\u001b[0m                 \u001b[0;32mif\u001b[0m \u001b[0mgetattr\u001b[0m\u001b[0;34m(\u001b[0m\u001b[0mself\u001b[0m\u001b[0;34m.\u001b[0m\u001b[0m_backend\u001b[0m\u001b[0;34m,\u001b[0m \u001b[0;34m'supports_timeout'\u001b[0m\u001b[0;34m,\u001b[0m \u001b[0;32mFalse\u001b[0m\u001b[0;34m)\u001b[0m\u001b[0;34m:\u001b[0m\u001b[0;34m\u001b[0m\u001b[0m\n\u001b[0;32m--> 699\u001b[0;31m                     \u001b[0mself\u001b[0m\u001b[0;34m.\u001b[0m\u001b[0m_output\u001b[0m\u001b[0;34m.\u001b[0m\u001b[0mextend\u001b[0m\u001b[0;34m(\u001b[0m\u001b[0mjob\u001b[0m\u001b[0;34m.\u001b[0m\u001b[0mget\u001b[0m\u001b[0;34m(\u001b[0m\u001b[0mtimeout\u001b[0m\u001b[0;34m=\u001b[0m\u001b[0mself\u001b[0m\u001b[0;34m.\u001b[0m\u001b[0mtimeout\u001b[0m\u001b[0;34m)\u001b[0m\u001b[0;34m)\u001b[0m\u001b[0;34m\u001b[0m\u001b[0m\n\u001b[0m\u001b[1;32m    700\u001b[0m                 \u001b[0;32melse\u001b[0m\u001b[0;34m:\u001b[0m\u001b[0;34m\u001b[0m\u001b[0m\n\u001b[1;32m    701\u001b[0m                     \u001b[0mself\u001b[0m\u001b[0;34m.\u001b[0m\u001b[0m_output\u001b[0m\u001b[0;34m.\u001b[0m\u001b[0mextend\u001b[0m\u001b[0;34m(\u001b[0m\u001b[0mjob\u001b[0m\u001b[0;34m.\u001b[0m\u001b[0mget\u001b[0m\u001b[0;34m(\u001b[0m\u001b[0;34m)\u001b[0m\u001b[0;34m)\u001b[0m\u001b[0;34m\u001b[0m\u001b[0m\n",
      "\u001b[0;32m~/anaconda3/lib/python3.6/multiprocessing/pool.py\u001b[0m in \u001b[0;36mget\u001b[0;34m(self, timeout)\u001b[0m\n\u001b[1;32m    636\u001b[0m \u001b[0;34m\u001b[0m\u001b[0m\n\u001b[1;32m    637\u001b[0m     \u001b[0;32mdef\u001b[0m \u001b[0mget\u001b[0m\u001b[0;34m(\u001b[0m\u001b[0mself\u001b[0m\u001b[0;34m,\u001b[0m \u001b[0mtimeout\u001b[0m\u001b[0;34m=\u001b[0m\u001b[0;32mNone\u001b[0m\u001b[0;34m)\u001b[0m\u001b[0;34m:\u001b[0m\u001b[0;34m\u001b[0m\u001b[0m\n\u001b[0;32m--> 638\u001b[0;31m         \u001b[0mself\u001b[0m\u001b[0;34m.\u001b[0m\u001b[0mwait\u001b[0m\u001b[0;34m(\u001b[0m\u001b[0mtimeout\u001b[0m\u001b[0;34m)\u001b[0m\u001b[0;34m\u001b[0m\u001b[0m\n\u001b[0m\u001b[1;32m    639\u001b[0m         \u001b[0;32mif\u001b[0m \u001b[0;32mnot\u001b[0m \u001b[0mself\u001b[0m\u001b[0;34m.\u001b[0m\u001b[0mready\u001b[0m\u001b[0;34m(\u001b[0m\u001b[0;34m)\u001b[0m\u001b[0;34m:\u001b[0m\u001b[0;34m\u001b[0m\u001b[0m\n\u001b[1;32m    640\u001b[0m             \u001b[0;32mraise\u001b[0m \u001b[0mTimeoutError\u001b[0m\u001b[0;34m\u001b[0m\u001b[0m\n",
      "\u001b[0;32m~/anaconda3/lib/python3.6/multiprocessing/pool.py\u001b[0m in \u001b[0;36mwait\u001b[0;34m(self, timeout)\u001b[0m\n\u001b[1;32m    633\u001b[0m \u001b[0;34m\u001b[0m\u001b[0m\n\u001b[1;32m    634\u001b[0m     \u001b[0;32mdef\u001b[0m \u001b[0mwait\u001b[0m\u001b[0;34m(\u001b[0m\u001b[0mself\u001b[0m\u001b[0;34m,\u001b[0m \u001b[0mtimeout\u001b[0m\u001b[0;34m=\u001b[0m\u001b[0;32mNone\u001b[0m\u001b[0;34m)\u001b[0m\u001b[0;34m:\u001b[0m\u001b[0;34m\u001b[0m\u001b[0m\n\u001b[0;32m--> 635\u001b[0;31m         \u001b[0mself\u001b[0m\u001b[0;34m.\u001b[0m\u001b[0m_event\u001b[0m\u001b[0;34m.\u001b[0m\u001b[0mwait\u001b[0m\u001b[0;34m(\u001b[0m\u001b[0mtimeout\u001b[0m\u001b[0;34m)\u001b[0m\u001b[0;34m\u001b[0m\u001b[0m\n\u001b[0m\u001b[1;32m    636\u001b[0m \u001b[0;34m\u001b[0m\u001b[0m\n\u001b[1;32m    637\u001b[0m     \u001b[0;32mdef\u001b[0m \u001b[0mget\u001b[0m\u001b[0;34m(\u001b[0m\u001b[0mself\u001b[0m\u001b[0;34m,\u001b[0m \u001b[0mtimeout\u001b[0m\u001b[0;34m=\u001b[0m\u001b[0;32mNone\u001b[0m\u001b[0;34m)\u001b[0m\u001b[0;34m:\u001b[0m\u001b[0;34m\u001b[0m\u001b[0m\n",
      "\u001b[0;32m~/anaconda3/lib/python3.6/threading.py\u001b[0m in \u001b[0;36mwait\u001b[0;34m(self, timeout)\u001b[0m\n\u001b[1;32m    549\u001b[0m             \u001b[0msignaled\u001b[0m \u001b[0;34m=\u001b[0m \u001b[0mself\u001b[0m\u001b[0;34m.\u001b[0m\u001b[0m_flag\u001b[0m\u001b[0;34m\u001b[0m\u001b[0m\n\u001b[1;32m    550\u001b[0m             \u001b[0;32mif\u001b[0m \u001b[0;32mnot\u001b[0m \u001b[0msignaled\u001b[0m\u001b[0;34m:\u001b[0m\u001b[0;34m\u001b[0m\u001b[0m\n\u001b[0;32m--> 551\u001b[0;31m                 \u001b[0msignaled\u001b[0m \u001b[0;34m=\u001b[0m \u001b[0mself\u001b[0m\u001b[0;34m.\u001b[0m\u001b[0m_cond\u001b[0m\u001b[0;34m.\u001b[0m\u001b[0mwait\u001b[0m\u001b[0;34m(\u001b[0m\u001b[0mtimeout\u001b[0m\u001b[0;34m)\u001b[0m\u001b[0;34m\u001b[0m\u001b[0m\n\u001b[0m\u001b[1;32m    552\u001b[0m             \u001b[0;32mreturn\u001b[0m \u001b[0msignaled\u001b[0m\u001b[0;34m\u001b[0m\u001b[0m\n\u001b[1;32m    553\u001b[0m \u001b[0;34m\u001b[0m\u001b[0m\n",
      "\u001b[0;32m~/anaconda3/lib/python3.6/threading.py\u001b[0m in \u001b[0;36mwait\u001b[0;34m(self, timeout)\u001b[0m\n\u001b[1;32m    293\u001b[0m         \u001b[0;32mtry\u001b[0m\u001b[0;34m:\u001b[0m    \u001b[0;31m# restore state no matter what (e.g., KeyboardInterrupt)\u001b[0m\u001b[0;34m\u001b[0m\u001b[0m\n\u001b[1;32m    294\u001b[0m             \u001b[0;32mif\u001b[0m \u001b[0mtimeout\u001b[0m \u001b[0;32mis\u001b[0m \u001b[0;32mNone\u001b[0m\u001b[0;34m:\u001b[0m\u001b[0;34m\u001b[0m\u001b[0m\n\u001b[0;32m--> 295\u001b[0;31m                 \u001b[0mwaiter\u001b[0m\u001b[0;34m.\u001b[0m\u001b[0macquire\u001b[0m\u001b[0;34m(\u001b[0m\u001b[0;34m)\u001b[0m\u001b[0;34m\u001b[0m\u001b[0m\n\u001b[0m\u001b[1;32m    296\u001b[0m                 \u001b[0mgotit\u001b[0m \u001b[0;34m=\u001b[0m \u001b[0;32mTrue\u001b[0m\u001b[0;34m\u001b[0m\u001b[0m\n\u001b[1;32m    297\u001b[0m             \u001b[0;32melse\u001b[0m\u001b[0;34m:\u001b[0m\u001b[0;34m\u001b[0m\u001b[0m\n",
      "\u001b[0;31mKeyboardInterrupt\u001b[0m: "
     ]
    }
   ],
   "source": [
    "results_c_local = Parallel(n_jobs=4)(delayed(res_append_C_local)(x_train, y_train,x_validate, y_validate,\n",
    "                                      components_list,c)for c in c_params)"
   ]
  },
  {
   "cell_type": "code",
   "execution_count": 73,
   "metadata": {
    "collapsed": true
   },
   "outputs": [],
   "source": [
    "RES_C_local = []\n",
    "for n_comp in components_list:\n",
    "    l =[]\n",
    "    for n,c in enumerate(c_params):\n",
    "        pred = results_c_local[n][n_comp]\n",
    "        res = metrics.f1_score(y_validate, pred, average='weighted')\n",
    "        l.append(res)\n",
    "    RES_C_local.append(l)      "
   ]
  },
  {
   "cell_type": "code",
   "execution_count": 105,
   "metadata": {},
   "outputs": [
    {
     "data": {
      "image/png": "[encoded data removed]",
      "text/plain": [
       "<matplotlib.figure.Figure at 0x7f463e47e3c8>"
      ]
     },
     "metadata": {},
     "output_type": "display_data"
    }
   ],
   "source": [
    "plt.figure(figsize=(10,6))\n",
    "for n,n_comp in enumerate(components_list):\n",
    "    plt.semilogx(c_params[1:-2], RES_C_local[n][1:-2],label ='N_comp = {}'.format(n_comp))\n",
    "        \n",
    "plt.grid(color='lightgray', linestyle='dashed')\n",
    "plt.title('Classifier Hyperparameter tuning (RDS Local)')\n",
    "plt.legend()\n",
    "plt.xlabel('C')\n",
    "plt.ylabel('F1 score')\n",
    "plt.savefig(\"Reuters_Local_grid_search_C_RDS.eps\", bbox_inches='tight')\n",
    "plt.show()"
   ]
  },
  {
   "cell_type": "code",
   "execution_count": 77,
   "metadata": {},
   "outputs": [
    {
     "name": "stdout",
     "output_type": "stream",
     "text": [
      "(7741, 7169)\n",
      "(7741, 60)\n",
      "(2998, 7169)\n"
     ]
    }
   ],
   "source": [
    "print (vectors.shape)\n",
    "print (labels_train.shape)\n",
    "print (vectors_test.shape)"
   ]
  },
  {
   "cell_type": "code",
   "execution_count": 91,
   "metadata": {
    "collapsed": true
   },
   "outputs": [],
   "source": [
    "components_list_final = [3, 8, 13, 20, 50, 100, 200, 300, 500, 700, 1000]\n",
    "c = 10\n",
    "real_clf = LinearSVC(C = c, random_state = 42)"
   ]
  },
  {
   "cell_type": "code",
   "execution_count": 94,
   "metadata": {
    "collapsed": true
   },
   "outputs": [],
   "source": [
    "def Compute_Local_RDS_full(n_comp):\n",
    "    t0 = time.time()\n",
    "    pred = fit_predict_local(vectors, labels_train, vectors_test,n_comp,real_clf)\n",
    "    print (n_comp,'---->F1 score=',metrics.f1_score(labels_test, pred, average='weighted'), 'time passed: ', time.time() - t0,'\\n')\n",
    "    return pred"
   ]
  },
  {
   "cell_type": "code",
   "execution_count": 95,
   "metadata": {},
   "outputs": [
    {
     "name": "stdout",
     "output_type": "stream",
     "text": [
      "3 ---->F1 score= 0.701358834327 time passed:  7.580176115036011 \n",
      "\n",
      "8 ---->F1 score= 0.755571357256 time passed:  10.954994678497314 \n",
      "\n",
      "13 ---->F1 score= 0.777255523075 time passed:  12.218893051147461 \n",
      "\n",
      "20 ---->F1 score= 0.798921980638 time passed:  15.74228286743164 \n",
      "\n",
      "50 ---->F1 score= 0.813220756558 time passed:  24.73194146156311 \n",
      "\n",
      "100 ---->F1 score= 0.830016574754 time passed:  35.104366302490234 \n",
      "\n",
      "200 ---->F1 score= 0.833993587798 time passed:  51.592726707458496 \n",
      "\n",
      "300 ---->F1 score= 0.835369044005 time passed:  64.61278510093689 \n",
      "\n",
      "500 ---->F1 score= 0.83344330929 time passed:  116.56353855133057 \n",
      "\n",
      "700 ---->F1 score= 0.83466703294 time passed:  153.5486786365509 \n",
      "\n",
      "1000 ---->F1 score= 0.835071186992 time passed:  177.85535168647766 \n",
      "\n"
     ]
    }
   ],
   "source": [
    "results_RDS_full = Parallel(n_jobs=4)(delayed(Compute_Local_RDS_full)(n_comp)for n_comp in components_list_final)"
   ]
  },
  {
   "cell_type": "code",
   "execution_count": null,
   "metadata": {
    "collapsed": true
   },
   "outputs": [],
   "source": [
    "results_RDS_full[0].shape"
   ]
  },
  {
   "cell_type": "code",
   "execution_count": 97,
   "metadata": {
    "collapsed": true
   },
   "outputs": [],
   "source": [
    "RESULTS_FINAL_RDS =[]\n",
    "f1_scores =[]\n",
    "precisions = []\n",
    "recalls =[]\n",
    "accuracies = []\n",
    "for n in range(len(components_list_final)):\n",
    "    pred = results_RDS_full[n]\n",
    "    f1_scores.append(metrics.f1_score(labels_test, pred, average='weighted'))\n",
    "    precisions.append(metrics.precision_score(labels_test, pred, average='weighted'))\n",
    "    recalls.append(metrics.recall_score(labels_test, pred, average='weighted'))\n",
    "    accuracies.append(metrics.accuracy_score(labels_test, pred))\n",
    "RESULTS_FINAL_RDS.append(f1_scores)\n",
    "RESULTS_FINAL_RDS.append(precisions)\n",
    "RESULTS_FINAL_RDS.append(recalls)\n",
    "RESULTS_FINAL_RDS.append(accuracies)    "
   ]
  },
  {
   "cell_type": "code",
   "execution_count": 99,
   "metadata": {},
   "outputs": [
    {
     "data": {
      "image/png": "[encoded data removed]",
      "text/plain": [
       "<matplotlib.figure.Figure at 0x7f463e5892b0>"
      ]
     },
     "metadata": {},
     "output_type": "display_data"
    }
   ],
   "source": [
    "# F1 score\n",
    "plt.figure(figsize=(10,6))\n",
    "plt.plot(components_list_final, RESULTS_FINAL_RDS[0],label ='RDS')\n",
    "#plt.plot(components_list_final, RESULTS_FINAL_WEIGHTED[0],label ='Weighted')        \n",
    "plt.grid(color='lightgray', linestyle='dashed')\n",
    "plt.title('Comparison RDS and Weighted')\n",
    "plt.legend()\n",
    "plt.xlabel('number of components')\n",
    "plt.ylabel('F1 score')\n",
    "plt.show()"
   ]
  },
  {
   "cell_type": "code",
   "execution_count": 98,
   "metadata": {
    "collapsed": true
   },
   "outputs": [],
   "source": [
    "file_RDS = \"Reuters_saved_RDS.npy\"\n",
    "file_scores_RDS = \"Reuters_saved_scores_RDS.npy\"\n",
    "np.save(file_RDS, np.array(results_RDS_full))\n",
    "np.save(file_scores_RDS, np.array(RESULTS_FINAL_RDS))"
   ]
  }
 ],
 "metadata": {
  "kernelspec": {
   "display_name": "Python 3",
   "language": "python",
   "name": "python3"
  },
  "language_info": {
   "codemirror_mode": {
    "name": "ipython",
    "version": 3
   },
   "file_extension": ".py",
   "mimetype": "text/x-python",
   "name": "python",
   "nbconvert_exporter": "python",
   "pygments_lexer": "ipython3",
   "version": "3.6.3"
  }
 },
 "nbformat": 4,
 "nbformat_minor": 2
}
