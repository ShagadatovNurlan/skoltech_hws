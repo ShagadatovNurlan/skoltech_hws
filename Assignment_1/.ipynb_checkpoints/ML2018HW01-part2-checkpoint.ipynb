{
 "cells": [
  {
   "cell_type": "markdown",
   "metadata": {},
   "source": [
    "# Assignment -- 1"
   ]
  },
  {
   "cell_type": "markdown",
   "metadata": {},
   "source": [
    "## Part 2 (13+3 pt.): Free range practical classification\n",
    "\n",
    "In this assignment you are asked to apply different classifiers to the dataset:"
   ]
  },
  {
   "cell_type": "code",
   "execution_count": 158,
   "metadata": {
    "collapsed": true
   },
   "outputs": [],
   "source": [
    "from sklearn.datasets import make_classification\n",
    "\n",
    "import numpy as np\n",
    "from sklearn.model_selection import train_test_split\n",
    "\n",
    "X_full, y_full = make_classification(n_samples=2400, n_features=20, n_informative=18,\n",
    "                                     n_redundant=0, n_classes=2, random_state=2319)"
   ]
  },
  {
   "cell_type": "markdown",
   "metadata": {},
   "source": [
    "You are asked to play around with these binary classification models from\n",
    "the third lecture:\n",
    "* logistic regression\n",
    "* $k$-nearest neighbours\n",
    "* Decision Tree\n",
    "\n",
    "and check out different calssification quality measures.\n",
    "\n",
    "You are free to use **sklearn**, **pandas**, **numpy** or any other library to the\n",
    "fullest. Try to avoid writing code, and instead rely on the already implemented and\n",
    "validated solutions.\n",
    "\n",
    "Your goal is to **explore and experiment** with the dataset using these models."
   ]
  },
  {
   "cell_type": "markdown",
   "metadata": {},
   "source": [
    "### Make train / test split (2 pts.)\n",
    "\n",
    "This step is just it: split the sample $(X, y)$ into a **train** and **test**\n",
    "sample. The trick is to make the split arbitrarily random, yet **replayable**,\n",
    "i.e. each separate run of your notebook **must yield exactly the same results**."
   ]
  },
  {
   "cell_type": "code",
   "execution_count": 159,
   "metadata": {},
   "outputs": [
    {
     "name": "stdout",
     "output_type": "stream",
     "text": [
      "(834,)\n",
      "(846,)\n"
     ]
    }
   ],
   "source": [
    "X_train, X_test, y_train, y_test = train_test_split(X_full, y_full, test_size=0.3, shuffle=True, random_state=42)\n",
    "print (y_train[y_train == 0].shape)\n",
    "print (y_train[y_train == 1].shape)"
   ]
  },
  {
   "cell_type": "markdown",
   "metadata": {},
   "source": [
    "<br/>"
   ]
  },
  {
   "cell_type": "markdown",
   "metadata": {},
   "source": [
    "### Model selection (7+3 pt.)\n",
    "\n",
    "In this step you are asked to perform hyperparameter selection with $k$-fold cross\n",
    "validation on the **training sample**.\n",
    "\n",
    "Again, make sure that the folds are generated randomly, yet **replayable** as in the previous step.\n",
    "\n",
    "Tutorial on cross validation in [sklearn](http://scikit-learn.org/stable/tutorial/statistical_inference/model_selection.html)\n",
    "\n",
    "Basically you need to:\n",
    "1. Select a range of the hyperparameter you are tuning:\n",
    "    * penalty type, regularization coefficient for Logistic Regression;\n",
    "    * Tree depth, number of features per split for Decision Trees;\n",
    "    * the number of neighbours in $k$-NN, etc.\n",
    "2. Pick a metric to evaluate with (Accuracy, precision, recall, $F_1$, or custom etc.)\n",
    "3. Search for the best parameter using cross-validation and save the best model\n",
    "4. rinse and repeat for another model / parameter settings.\n",
    "\n",
    "You get extra points if you tune more than one hyperparameter.\n",
    "To do this you will have to decide either\n",
    "* to test all possible combinations of parameters\n",
    "* or to employ a greedy optimization strategy"
   ]
  },
  {
   "cell_type": "code",
   "execution_count": 160,
   "metadata": {
    "collapsed": true
   },
   "outputs": [],
   "source": [
    "from sklearn.linear_model import LogisticRegression\n",
    "from sklearn.tree import DecisionTreeClassifier\n",
    "from sklearn.neighbors import KNeighborsClassifier\n",
    "from sklearn.model_selection import GridSearchCV\n",
    "from sklearn.model_selection import KFold, cross_val_score, cross_val_predict\n",
    "from sklearn.metrics import classification_report\n",
    "from sklearn.metrics import confusion_matrix, roc_curve, precision_recall_curve, auc\n",
    "from sklearn.metrics import f1_score, accuracy_score, average_precision_score\n",
    "import pandas as pd"
   ]
  },
  {
   "cell_type": "code",
   "execution_count": 168,
   "metadata": {},
   "outputs": [
    {
     "name": "stdout",
     "output_type": "stream",
     "text": [
      "{'C': 0.1, 'penalty': 'l2'}\n"
     ]
    }
   ],
   "source": [
    "lr = LogisticRegression(fit_intercept = True, random_state = 42, tol = 1e-4)\n",
    "param_grid_lr = [ {'C': np.linspace(0.1, 2, 10), \n",
    "                'penalty': ['l1', 'l2']},]\n",
    "clf_lr = GridSearchCV(lr, param_grid_lr,scoring='f1', cv=5)\n",
    "clf_lr.fit(X_train, y_train)\n",
    "print(clf_lr.best_params_)"
   ]
  },
  {
   "cell_type": "code",
   "execution_count": 162,
   "metadata": {},
   "outputs": [
    {
     "name": "stdout",
     "output_type": "stream",
     "text": [
      "F1 score for Linear regression:  0.8469945355191257\n"
     ]
    },
    {
     "data": {
      "text/html": [
       "<div>\n",
       "<style>\n",
       "    .dataframe thead tr:only-child th {\n",
       "        text-align: right;\n",
       "    }\n",
       "\n",
       "    .dataframe thead th {\n",
       "        text-align: left;\n",
       "    }\n",
       "\n",
       "    .dataframe tbody tr th {\n",
       "        vertical-align: top;\n",
       "    }\n",
       "</style>\n",
       "<table border=\"1\" class=\"dataframe\">\n",
       "  <thead>\n",
       "    <tr style=\"text-align: right;\">\n",
       "      <th></th>\n",
       "      <th>0</th>\n",
       "      <th>1</th>\n",
       "    </tr>\n",
       "  </thead>\n",
       "  <tbody>\n",
       "    <tr>\n",
       "      <th>0</th>\n",
       "      <td>298</td>\n",
       "      <td>67</td>\n",
       "    </tr>\n",
       "    <tr>\n",
       "      <th>1</th>\n",
       "      <td>45</td>\n",
       "      <td>310</td>\n",
       "    </tr>\n",
       "  </tbody>\n",
       "</table>\n",
       "</div>"
      ],
      "text/plain": [
       "     0    1\n",
       "0  298   67\n",
       "1   45  310"
      ]
     },
     "execution_count": 162,
     "metadata": {},
     "output_type": "execute_result"
    }
   ],
   "source": [
    "predictions_lr_cv = clf_lr.predict(X_test)\n",
    "f1_lr_cv = f1_score(y_test, predictions_lr_cv)\n",
    "probabilities_lr = clf_lr.predict_proba(X_test)[:,1]\n",
    "false_positive_rates_lr_cv, true_positive_rates_lr_cv, _ = roc_curve(y_test, probabilities_lr)\n",
    "print (\"F1 score for Linear regression: \",f1_lr_cv)\n",
    "pd.DataFrame(confusion_matrix(y_test, predictions_lr_cv))"
   ]
  },
  {
   "cell_type": "code",
   "execution_count": 163,
   "metadata": {},
   "outputs": [
    {
     "name": "stdout",
     "output_type": "stream",
     "text": [
      "{'max_depth': 6, 'min_samples_leaf': 1}\n"
     ]
    }
   ],
   "source": [
    "dt = DecisionTreeClassifier(random_state = 42)\n",
    "param_grid_dt = [{'max_depth': range(1,10), \n",
    "                'min_samples_leaf': [1, 5, 10, 20, 100]},]\n",
    "clf_dt = GridSearchCV(dt, param_grid_dt,scoring='f1', cv=5)\n",
    "clf_dt.fit(X_train, y_train)\n",
    "print(clf_dt.best_params_)"
   ]
  },
  {
   "cell_type": "code",
   "execution_count": 164,
   "metadata": {},
   "outputs": [
    {
     "name": "stdout",
     "output_type": "stream",
     "text": [
      "F1 score for Decision Tree:  0.7823529411764706\n"
     ]
    },
    {
     "data": {
      "text/html": [
       "<div>\n",
       "<style>\n",
       "    .dataframe thead tr:only-child th {\n",
       "        text-align: right;\n",
       "    }\n",
       "\n",
       "    .dataframe thead th {\n",
       "        text-align: left;\n",
       "    }\n",
       "\n",
       "    .dataframe tbody tr th {\n",
       "        vertical-align: top;\n",
       "    }\n",
       "</style>\n",
       "<table border=\"1\" class=\"dataframe\">\n",
       "  <thead>\n",
       "    <tr style=\"text-align: right;\">\n",
       "      <th></th>\n",
       "      <th>0</th>\n",
       "      <th>1</th>\n",
       "    </tr>\n",
       "  </thead>\n",
       "  <tbody>\n",
       "    <tr>\n",
       "      <th>0</th>\n",
       "      <td>306</td>\n",
       "      <td>59</td>\n",
       "    </tr>\n",
       "    <tr>\n",
       "      <th>1</th>\n",
       "      <td>89</td>\n",
       "      <td>266</td>\n",
       "    </tr>\n",
       "  </tbody>\n",
       "</table>\n",
       "</div>"
      ],
      "text/plain": [
       "     0    1\n",
       "0  306   59\n",
       "1   89  266"
      ]
     },
     "execution_count": 164,
     "metadata": {},
     "output_type": "execute_result"
    }
   ],
   "source": [
    "predictions_dt_cv = clf_dt.predict(X_test)\n",
    "f1_dt_cv = f1_score(y_test, predictions_dt_cv)\n",
    "probabilities_dt = clf_dt.predict_proba(X_test)[:,1]\n",
    "false_positive_rates_dt_cv, true_positive_rates_dt_cv, _ = roc_curve(y_test, probabilities_dt)\n",
    "roc_auc_dt_cv = auc(false_positive_rates_dt_cv, true_positive_rates_dt_cv)\n",
    "print (\"F1 score for Decision Tree: \",f1_dt_cv)\n",
    "pd.DataFrame(confusion_matrix(y_test, predictions_dt_cv))"
   ]
  },
  {
   "cell_type": "code",
   "execution_count": 165,
   "metadata": {},
   "outputs": [
    {
     "name": "stdout",
     "output_type": "stream",
     "text": [
      "{'metric': 'euclidean', 'n_neighbors': 9}\n"
     ]
    }
   ],
   "source": [
    "knn = KNeighborsClassifier()\n",
    "param_grid_knn = [{'n_neighbors': range(3,11),\n",
    "                  'metric': ['euclidean','minkowski', 'manhattan', 'chebyshev']},]\n",
    "clf_knn = GridSearchCV(knn, param_grid_knn,scoring='f1', cv=5)\n",
    "clf_knn.fit(X_train, y_train)\n",
    "print(clf_knn.best_params_)"
   ]
  },
  {
   "cell_type": "code",
   "execution_count": 166,
   "metadata": {},
   "outputs": [
    {
     "name": "stdout",
     "output_type": "stream",
     "text": [
      "F1 score for Decision Tree:  0.9644381223328592\n"
     ]
    },
    {
     "data": {
      "text/html": [
       "<div>\n",
       "<style>\n",
       "    .dataframe thead tr:only-child th {\n",
       "        text-align: right;\n",
       "    }\n",
       "\n",
       "    .dataframe thead th {\n",
       "        text-align: left;\n",
       "    }\n",
       "\n",
       "    .dataframe tbody tr th {\n",
       "        vertical-align: top;\n",
       "    }\n",
       "</style>\n",
       "<table border=\"1\" class=\"dataframe\">\n",
       "  <thead>\n",
       "    <tr style=\"text-align: right;\">\n",
       "      <th></th>\n",
       "      <th>0</th>\n",
       "      <th>1</th>\n",
       "    </tr>\n",
       "  </thead>\n",
       "  <tbody>\n",
       "    <tr>\n",
       "      <th>0</th>\n",
       "      <td>356</td>\n",
       "      <td>9</td>\n",
       "    </tr>\n",
       "    <tr>\n",
       "      <th>1</th>\n",
       "      <td>16</td>\n",
       "      <td>339</td>\n",
       "    </tr>\n",
       "  </tbody>\n",
       "</table>\n",
       "</div>"
      ],
      "text/plain": [
       "     0    1\n",
       "0  356    9\n",
       "1   16  339"
      ]
     },
     "execution_count": 166,
     "metadata": {},
     "output_type": "execute_result"
    }
   ],
   "source": [
    "predictions_knn_cv = clf_knn.predict(X_test)\n",
    "f1_knn_cv = f1_score(y_test, predictions_knn_cv)\n",
    "probabilities_knn = clf_knn.predict_proba(X_test)[:,1]\n",
    "false_positive_rates_knn_cv, true_positive_rates_knn_cv, _ = roc_curve(y_test, probabilities_knn)\n",
    "print (\"F1 score for Decision Tree: \",f1_knn_cv)\n",
    "pd.DataFrame(confusion_matrix(y_test, predictions_knn_cv))"
   ]
  },
  {
   "cell_type": "markdown",
   "metadata": {},
   "source": [
    "<br/>"
   ]
  },
  {
   "cell_type": "markdown",
   "metadata": {},
   "source": [
    "### Compare the best models (4 pt.)\n",
    "\n",
    "In this step you are to plot the [ROC curve](http://scikit-learn.org/stable/auto_examples/model_selection/plot_roc.html) of\n",
    "the best models on the **test sample**. Then using the ROC-AUC (or any\n",
    "**other metric** you like) to decide which model is **the best of\n",
    "the best**.\n",
    "\n",
    "Try to be creative and not just copy the provided reference tutorials.\n",
    "Don't worry if the final overall performance metric is not that high."
   ]
  },
  {
   "cell_type": "code",
   "execution_count": 167,
   "metadata": {
    "scrolled": true
   },
   "outputs": [
    {
     "data": {
      "image/png": "[encoded data removed]",
      "text/plain": [
       "<matplotlib.figure.Figure at 0x7f1858a624a8>"
      ]
     },
     "metadata": {},
     "output_type": "display_data"
    }
   ],
   "source": [
    "import matplotlib.pyplot as plt\n",
    "roc_auc_dt_cv = auc(false_positive_rates_dt_cv, true_positive_rates_dt_cv)\n",
    "roc_auc_lr_cv = auc(false_positive_rates_lr_cv, true_positive_rates_lr_cv)\n",
    "roc_auc_knn_cv = auc(false_positive_rates_knn_cv, true_positive_rates_knn_cv)\n",
    "plt.figure(figsize = (15,15))\n",
    "lw = 2\n",
    "plt.subplot(221)\n",
    "plt.plot(false_positive_rates_dt_cv, true_positive_rates_dt_cv, color='darkorange',\n",
    "         lw=lw, label='ROC curve DT(area = %0.2f)' % roc_auc_dt_cv)\n",
    "plt.plot([0, 1], [0, 1], color='navy', lw=lw, linestyle='--')\n",
    "plt.xlim([0.0, 1.0])\n",
    "plt.ylim([0.0, 1.05])\n",
    "plt.xlabel('False Positive Rate')\n",
    "plt.ylabel('True Positive Rate')\n",
    "plt.title('Receiver operating characteristic example')\n",
    "plt.legend(loc=\"lower right\")\n",
    "\n",
    "plt.subplot(222)\n",
    "plt.plot(false_positive_rates_lr_cv, true_positive_rates_lr_cv, color='darkorange',\n",
    "         lw=lw, label='ROC curve LR(area = %0.2f)' % roc_auc_lr_cv)\n",
    "plt.plot([0, 1], [0, 1], color='navy', lw=lw, linestyle='--')\n",
    "plt.xlim([0.0, 1.0])\n",
    "plt.ylim([0.0, 1.05])\n",
    "plt.xlabel('False Positive Rate')\n",
    "plt.ylabel('True Positive Rate')\n",
    "plt.title('Receiver operating characteristic example')\n",
    "plt.legend(loc=\"lower right\")\n",
    "\n",
    "plt.subplot(223)\n",
    "plt.plot(false_positive_rates_knn_cv, true_positive_rates_knn_cv, color='darkorange',\n",
    "         lw=lw, label='ROC curve KNN(area = %0.2f)' % roc_auc_knn_cv)\n",
    "plt.plot([0, 1], [0, 1], color='navy', lw=lw, linestyle='--')\n",
    "plt.xlim([0.0, 1.0])\n",
    "plt.ylim([0.0, 1.05])\n",
    "plt.xlabel('False Positive Rate')\n",
    "plt.ylabel('True Positive Rate')\n",
    "plt.title('Receiver operating characteristic example')\n",
    "plt.legend(loc=\"lower right\")\n",
    "plt.show()"
   ]
  },
  {
   "cell_type": "markdown",
   "metadata": {},
   "source": [
    "<b> Conclusion:</b>\n",
    "\n",
    "KnearestNeighbours shows the best result, because the number of label-1 and label-2 points almost are equal."
   ]
  },
  {
   "cell_type": "code",
   "execution_count": null,
   "metadata": {
    "collapsed": true
   },
   "outputs": [],
   "source": []
  }
 ],
 "metadata": {
  "kernelspec": {
   "display_name": "Python 3",
   "language": "python",
   "name": "python3"
  },
  "language_info": {
   "codemirror_mode": {
    "name": "ipython",
    "version": 3
   },
   "file_extension": ".py",
   "mimetype": "text/x-python",
   "name": "python",
   "nbconvert_exporter": "python",
   "pygments_lexer": "ipython3",
   "version": "3.6.3"
  }
 },
 "nbformat": 4,
 "nbformat_minor": 2
}
