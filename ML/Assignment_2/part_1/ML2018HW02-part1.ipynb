{
 "cells": [
  {
   "cell_type": "markdown",
   "metadata": {},
   "source": [
    "# Home Assignment -- 2"
   ]
  },
  {
   "cell_type": "markdown",
   "metadata": {},
   "source": [
    "Please, write your solutions within the designated blocks:\n",
    "```python\n",
    "...\n",
    "### BEGIN Solution\n",
    "\n",
    "# >>> your solution here <<<\n",
    "\n",
    "### END Solution\n",
    "...\n",
    "```"
   ]
  },
  {
   "cell_type": "markdown",
   "metadata": {},
   "source": [
    "Import visualization and data processing libraries"
   ]
  },
  {
   "cell_type": "code",
   "execution_count": 106,
   "metadata": {
    "collapsed": true,
    "slideshow": {
     "slide_type": "skip"
    }
   },
   "outputs": [],
   "source": [
    "import numpy as np\n",
    "import pandas as pd\n",
    "\n",
    "%matplotlib inline\n",
    "import matplotlib.pyplot as plt"
   ]
  },
  {
   "cell_type": "markdown",
   "metadata": {},
   "source": [
    "<br/> <!--Intentionally left blank-->"
   ]
  },
  {
   "cell_type": "markdown",
   "metadata": {},
   "source": [
    "# Part 1 (33 pt.): Convex Programs and Support Vector Models"
   ]
  },
  {
   "cell_type": "markdown",
   "metadata": {},
   "source": [
    "In this **first two tasks** of this part of the homework you will implement\n",
    "your own Support Vectors Regression and then test on a simple real dataset.\n",
    "\n",
    "In the last task you are asked to solve a simple small NLP problem using\n",
    "support vector classfiers from [scikit-learn](http://scikit-learn.org/stable/modules/svm.html#classification).\n",
    "If you successfully complete the task, it will give you a ready-to-use and\n",
    "straighforward baseline for any NLP classification task of moderate size."
   ]
  },
  {
   "cell_type": "markdown",
   "metadata": {
    "slideshow": {
     "slide_type": "slide"
    }
   },
   "source": [
    "### Support Vector Regression\n",
    "\n",
    "$$\\frac{1}{2}\\|w\\|^2 + C\\sum_{i=1}^l(\\xi_i + \\xi_i') \\to \\min_{w, b, \\xi_i, \\xi_i'}\\\\\n",
    "(w^Tx_i + b) - y_i \\leq \\epsilon - \\xi_i\\\\\n",
    "y_i - (w^Tx_i + b) \\leq \\epsilon - \\xi_i'\\\\\n",
    "\\xi_i \\geq 0\\\\\n",
    "\\xi_i' \\geq 0$$"
   ]
  },
  {
   "cell_type": "markdown",
   "metadata": {},
   "source": [
    "This problem can be written as empirical risk minimization problem with regularization"
   ]
  },
  {
   "cell_type": "markdown",
   "metadata": {
    "slideshow": {
     "slide_type": "fragment"
    }
   },
   "source": [
    "#### Equivalent\n",
    "$$ \\frac{1}{2}\\|w\\|^2 + C\\sum_{i=1}^l h(\\hat{y}_i, y_i)$$\n",
    "\n"
   ]
  },
  {
   "cell_type": "markdown",
   "metadata": {
    "slideshow": {
     "slide_type": "fragment"
    }
   },
   "source": [
    "Where\n",
    "$$ h(\\hat{y}_i, y_i) = \\max(0, |\\hat{y} - y| - \\epsilon ) $$\n",
    "is the $\\epsilon$-insensitive loss, and\n",
    "$$ \\hat{y}_i = (w, x_i) + b $$\n",
    "is the prediction."
   ]
  },
  {
   "cell_type": "markdown",
   "metadata": {},
   "source": [
    "For our experiments we will use \"Cars\" dataset, which contains information about braking distances for several cars from the 1920s."
   ]
  },
  {
   "cell_type": "code",
   "execution_count": 74,
   "metadata": {
    "collapsed": true
   },
   "outputs": [],
   "source": [
    "cars_info = pd.read_csv('data/cars.csv', index_col=0, dtype=np.float)\n",
    "\n",
    "X = cars_info.speed.values.reshape(-1, 1)"
   ]
  },
  {
   "cell_type": "markdown",
   "metadata": {},
   "source": [
    "Normalization leads to better convergence"
   ]
  },
  {
   "cell_type": "code",
   "execution_count": 75,
   "metadata": {
    "collapsed": true
   },
   "outputs": [],
   "source": [
    "from sklearn.preprocessing import StandardScaler\n",
    "\n",
    "X_scaler = StandardScaler()\n",
    "\n",
    "X_train = X_scaler.fit_transform(X)\n",
    "y_train = cars_info.dist"
   ]
  },
  {
   "cell_type": "code",
   "execution_count": 76,
   "metadata": {},
   "outputs": [
    {
     "data": {
      "text/plain": [
       "Text(0,0.5,'Distance')"
      ]
     },
     "execution_count": 76,
     "metadata": {},
     "output_type": "execute_result"
    },
    {
     "data": {
      "image/png": "[encoded data removed]",
      "text/plain": [
       "<matplotlib.figure.Figure at 0x7fa42eaea9e8>"
      ]
     },
     "metadata": {},
     "output_type": "display_data"
    }
   ],
   "source": [
    "ax = plt.gca()\n",
    "ax.plot(X, y_train, 'o')\n",
    "ax.set_xlabel('Speed')\n",
    "ax.set_ylabel('Distance')"
   ]
  },
  {
   "cell_type": "markdown",
   "metadata": {},
   "source": [
    "<br/> <!--Intentionally left blank-->"
   ]
  },
  {
   "cell_type": "markdown",
   "metadata": {},
   "source": [
    "## Task 1 (11 pt.)"
   ]
  },
  {
   "cell_type": "markdown",
   "metadata": {},
   "source": [
    "Please implement a function that calculates the current loss value and its gradient\n",
    "at the specified values of weights $w$, bias $b$, selected $C$ and $\\epsilon$."
   ]
  },
  {
   "cell_type": "code",
   "execution_count": 77,
   "metadata": {
    "collapsed": true
   },
   "outputs": [],
   "source": [
    "def calculate_eps_insensetive_loss(X, y, w, b, C=1.0, eps=0.1):\n",
    "    '''Calculate hinge loss function\n",
    "    :param: X -- numpy array of shape l x n\n",
    "    :param: y -- numpy array of shape l with values 1 and -1\n",
    "    :param: w -- numpy array of shape n\n",
    "    :param: b -- np.float64\n",
    "    :param: C -- np.float64 \n",
    "    '''\n",
    "    # Calculate Loss\n",
    "    loss = 0\n",
    "    ### BEGIN Solution\n",
    "    n = X.shape[0]\n",
    "    elementwise_module = X @ w + b - y\n",
    "    elementwise_h = np.absolute(elementwise_module) - eps\n",
    "    elementwise_risk = np.maximum(0,elementwise_h)\n",
    "    loss = C * np.sum(elementwise_risk) + 0.5 * np.sum(w * w)\n",
    "    ### END Solution\n",
    "\n",
    "    # Calculate Gradient for hinge loss    \n",
    "    w_grad = np.zeros_like(w)\n",
    "    b_grad = 0\n",
    "    ### BEGIN Solution\n",
    "    h_indices = np.nonzero(elementwise_h>0)[0]\n",
    "    module_indices = np.nonzero(elementwise_module>0)[0]\n",
    "    pos_indices = np.intersect1d(h_indices, module_indices)\n",
    "    neg_indices = np.setdiff1d(h_indices, module_indices)\n",
    "    \n",
    "    w_grad = C * (X[pos_indices,:].sum(axis = 0) - X[neg_indices,:].sum(axis = 0)) + w\n",
    "    b_grad = C *(pos_indices.shape[0] - neg_indices.shape[0])\n",
    "    ### END Solution\n",
    "\n",
    "    return loss, w_grad, b_grad"
   ]
  },
  {
   "cell_type": "markdown",
   "metadata": {},
   "source": [
    "Following code finds optimal values for your loss function with simple constant step gradient descend."
   ]
  },
  {
   "cell_type": "code",
   "execution_count": 78,
   "metadata": {
    "collapsed": true
   },
   "outputs": [],
   "source": [
    "# Model's metaparameters\n",
    "eps = 0.1\n",
    "C = 100\n",
    "\n",
    "# Gradient descent parameters\n",
    "step = 1e-4\n",
    "tolerance = 1e-3\n",
    "\n",
    "# Optimization logging\n",
    "converged = False\n",
    "index = 0\n",
    "training_loss_history = []\n",
    "training_loss_iteration = []\n",
    "\n",
    "# Parameters initialization\n",
    "w = np.zeros(1)\n",
    "b = 0\n",
    "loss, w_grad, b_grad = calculate_eps_insensetive_loss(X_train, y_train, w, b, C, eps)\n",
    "\n",
    "while not converged:\n",
    "    # Update parameters\n",
    "    new_w = w - step * w_grad\n",
    "    new_b = b - step * b_grad\n",
    "    # Calculate new loss and gradient\n",
    "    new_loss, w_grad, b_grad = calculate_eps_insensetive_loss(X_train, \n",
    "                                                    y_train, \n",
    "                                                    new_w, new_b, C, eps)\n",
    "    # Check convergence\n",
    "    if np.abs(loss - new_loss) < tolerance:\n",
    "        converged = True\n",
    "    \n",
    "    b, w, loss = new_b, new_w, new_loss\n",
    "    \n",
    "    # Update history\n",
    "    index += 1\n",
    "    if index % 10 == 0:\n",
    "        training_loss_history.append(new_loss)\n",
    "        training_loss_iteration.append(index)"
   ]
  },
  {
   "cell_type": "code",
   "execution_count": 79,
   "metadata": {},
   "outputs": [
    {
     "data": {
      "text/plain": [
       "Text(0,0.5,'Loss value')"
      ]
     },
     "execution_count": 79,
     "metadata": {},
     "output_type": "execute_result"
    },
    {
     "data": {
      "image/png": "[encoded data removed]",
      "text/plain": [
       "<matplotlib.figure.Figure at 0x7fa42ea6a668>"
      ]
     },
     "metadata": {},
     "output_type": "display_data"
    }
   ],
   "source": [
    "axis = plt.gca()\n",
    "axis.plot(training_loss_iteration, training_loss_history)\n",
    "axis.set_xlabel('Iterations')\n",
    "axis.set_ylabel('Loss value')"
   ]
  },
  {
   "cell_type": "markdown",
   "metadata": {},
   "source": [
    "We are going calculate predictions for all speeds in range from $0$ to $30$."
   ]
  },
  {
   "cell_type": "code",
   "execution_count": 80,
   "metadata": {
    "collapsed": true
   },
   "outputs": [],
   "source": [
    "x_grid = np.arange(0., 30., 1).reshape(-1, 1)\n",
    "x_test = X_scaler.transform(x_grid)"
   ]
  },
  {
   "cell_type": "code",
   "execution_count": 81,
   "metadata": {
    "collapsed": true
   },
   "outputs": [],
   "source": [
    "predictions = x_test @ w + b"
   ]
  },
  {
   "cell_type": "code",
   "execution_count": 82,
   "metadata": {},
   "outputs": [
    {
     "data": {
      "text/plain": [
       "<matplotlib.legend.Legend at 0x7fa42eafbcf8>"
      ]
     },
     "execution_count": 82,
     "metadata": {},
     "output_type": "execute_result"
    },
    {
     "data": {
      "image/png": "[encoded data removed]",
      "text/plain": [
       "<matplotlib.figure.Figure at 0x7fa42ea3c0f0>"
      ]
     },
     "metadata": {},
     "output_type": "display_data"
    }
   ],
   "source": [
    "ax = plt.gca()\n",
    "ax.plot(x_grid, predictions, label='Predictions')\n",
    "ax.plot(X, y_train, 'o')\n",
    "ax.set_xlabel('Speed')\n",
    "ax.set_ylabel('Distance')\n",
    "ax.legend(loc='best')"
   ]
  },
  {
   "cell_type": "markdown",
   "metadata": {},
   "source": [
    "<br/> <!--Intentionally left blank-->"
   ]
  },
  {
   "cell_type": "markdown",
   "metadata": {},
   "source": [
    "## Task 2 (11 pt.)"
   ]
  },
  {
   "cell_type": "markdown",
   "metadata": {},
   "source": [
    "In this task the goal is to implement the SVR algorithm based on its dual problem version."
   ]
  },
  {
   "cell_type": "markdown",
   "metadata": {
    "slideshow": {
     "slide_type": "fragment"
    }
   },
   "source": [
    "### SVR Dual Problem\n",
    "\n",
    "\\begin{equation}\n",
    "    \\begin{aligned}\n",
    "        & \\underset{\\alpha', \\alpha}{\\text{minimize}}\n",
    "          & & \\frac{1}{2}(\\alpha' - \\alpha)^T  K (\\alpha' - \\alpha)\n",
    "              - (\\alpha' - \\alpha)^T Y\n",
    "              + \\epsilon (\\alpha' + \\alpha)^T \\mathbf{1}\n",
    "              \\,, \\\\\n",
    "        & \\text{subject to}\n",
    "          & & (\\alpha' - \\alpha)^T \\mathbf{1} = 0\n",
    "              \\,, \\\\\n",
    "        & & & \\alpha', \\alpha \\in [0, C]\n",
    "              \\,.\n",
    "    \\end{aligned}\n",
    "\\end{equation}"
   ]
  },
  {
   "cell_type": "markdown",
   "metadata": {
    "slideshow": {
     "slide_type": "fragment"
    }
   },
   "source": [
    "### Quadtratic Optimization Problem\n",
    "\n",
    "\\begin{equation}\n",
    "    \\begin{aligned}\n",
    "        & \\underset{x}{\\text{minimize}}\n",
    "          & & \\tfrac12 x^T P x + q^T x\n",
    "              \\,, \\\\\n",
    "        & \\text{subject to}\n",
    "          & & G x \\leq h\n",
    "              \\,, \\\\\n",
    "        & & & Ax = b\n",
    "              \\,.\n",
    "    \\end{aligned}\n",
    "\\end{equation}"
   ]
  },
  {
   "cell_type": "markdown",
   "metadata": {},
   "source": [
    "Please notice that instead of just $\\alpha$, like in the classification case, we have\n",
    "two vectors of coefficients: $\\alpha$ and $\\alpha'$. As an input space consider using\n",
    "stacked column vectors\n",
    "\\begin{equation}\n",
    "    \\begin{pmatrix}\n",
    "        \\alpha \\\\\n",
    "        \\alpha'\n",
    "    \\end{pmatrix}\\,.\n",
    "\\end{equation}\n",
    "\n",
    "**Hint**: You may find function `np.block` very usefull in this task"
   ]
  },
  {
   "cell_type": "markdown",
   "metadata": {
    "slideshow": {
     "slide_type": "skip"
    }
   },
   "source": [
    "Now we are going to use **cvxopt** library, which has solvers for different kind\n",
    "of convex optimization problems. Please notice that installation in Windows can\n",
    "be a little tricky and painful.\n",
    "\n",
    "http://cvxopt.org/"
   ]
  },
  {
   "cell_type": "markdown",
   "metadata": {
    "slideshow": {
     "slide_type": "skip"
    }
   },
   "source": [
    "For more information about different types of optimization problem you can check\n",
    "this presentations. This material could be very helpful, however is not necessary\n",
    "for understatnding this course in Machine Learning.\n",
    "\n",
    "http://ee364a.stanford.edu/lectures/problems.pdf"
   ]
  },
  {
   "cell_type": "markdown",
   "metadata": {
    "slideshow": {
     "slide_type": "slide"
    }
   },
   "source": [
    "### Reformulate the Dual Problem"
   ]
  },
  {
   "cell_type": "code",
   "execution_count": 83,
   "metadata": {
    "collapsed": true,
    "slideshow": {
     "slide_type": "fragment"
    }
   },
   "outputs": [],
   "source": [
    "from cvxopt import matrix\n",
    "\n",
    "\n",
    "def formulate_problem(X, y, kernel, C, epsilon):\n",
    "    \"\"\"Formulate quadratic optimization\n",
    "    problem by defining matrices\n",
    "    :param: X np.array of size n_elem * n_dim with reaining values\n",
    "    :param: y np.array of size n_elem with labels 1 and -1\n",
    "    :kernel: kernel function wich accepts two matrices of objects\n",
    "    \"\"\"\n",
    "    quadratic_problem = {}\n",
    "\n",
    "    # REMEMBER: all values should be wrapped in `cvxopt.matrix`\n",
    "    # datatype (you can just use matrix(a) where a is `np.array`).\n",
    "    # Please be careful cvxopt accepts only FLOAT not INTEGER data\n",
    "\n",
    "    ### BEGIN Solution\n",
    "    n = X.shape[0]\n",
    "    I = np.eye(n)\n",
    "    R = np.block([-I,I])\n",
    "    M = np.block([I,I])\n",
    "    K = kernel(X, X)\n",
    "    one = np.ones((n,1))\n",
    "    quadratic_problem['P'] = matrix(R.T @ K @ R)\n",
    "    quadratic_problem['q'] = matrix( (-1 * y.T @ R + epsilon * one.T @ M).reshape(2*n,1))\n",
    "\n",
    "    quadratic_problem['G'] = matrix(np.block([[np.eye(2*n)],[-1*np.eye(2*n)]]))\n",
    "    quadratic_problem['h'] = matrix(np.hstack((np.array(np.repeat(C,2*n), dtype = np.float64), np.zeros(2*n))))\n",
    "\n",
    "    quadratic_problem['A'] = matrix(one.T @ R)\n",
    "    quadratic_problem['b'] = matrix(0.0)\n",
    "\n",
    "    ### END Solution\n",
    "\n",
    "    return quadratic_problem"
   ]
  },
  {
   "cell_type": "markdown",
   "metadata": {
    "slideshow": {
     "slide_type": "slide"
    }
   },
   "source": [
    "### Check the Results"
   ]
  },
  {
   "cell_type": "markdown",
   "metadata": {},
   "source": [
    "The module **metrics.pairwise** in **sklearn** has a very fast and well documented\n",
    "implementation of kernel matrix calculator. We fix the width of the RBF kernel at\n",
    "$1.0$ for simplicity."
   ]
  },
  {
   "cell_type": "code",
   "execution_count": 84,
   "metadata": {
    "collapsed": true,
    "slideshow": {
     "slide_type": "skip"
    }
   },
   "outputs": [],
   "source": [
    "from sklearn.metrics.pairwise import rbf_kernel\n",
    "from functools import partial\n",
    "\n",
    "# the width of the RBF kernel is 1.0\n",
    "kernel = partial(rbf_kernel, gamma=0.1)"
   ]
  },
  {
   "cell_type": "markdown",
   "metadata": {},
   "source": [
    "**cvxopt** has powerful and versatile solvers for almost every convex\n",
    "optimization problem: linear, conic, and **quadratic**. We are using\n",
    "the latter."
   ]
  },
  {
   "cell_type": "code",
   "execution_count": 85,
   "metadata": {
    "slideshow": {
     "slide_type": "fragment"
    }
   },
   "outputs": [
    {
     "name": "stdout",
     "output_type": "stream",
     "text": [
      "     pcost       dcost       gap    pres   dres\n",
      " 0: -1.2634e+04 -2.4630e+05  2e+05  1e-13  5e-15\n",
      " 1: -3.6309e+04 -7.2365e+04  4e+04  3e-13  6e-15\n",
      " 2: -5.2798e+04 -5.9730e+04  7e+03  5e-13  6e-15\n",
      " 3: -5.5424e+04 -5.7411e+04  2e+03  3e-13  6e-15\n",
      " 4: -5.6356e+04 -5.6677e+04  3e+02  2e-16  7e-15\n",
      " 5: -5.6510e+04 -5.6553e+04  4e+01  2e-13  6e-15\n",
      " 6: -5.6532e+04 -5.6534e+04  2e+00  2e-13  8e-15\n",
      " 7: -5.6533e+04 -5.6533e+04  3e-02  4e-13  7e-15\n",
      "Optimal solution found.\n"
     ]
    }
   ],
   "source": [
    "# Optimization routine\n",
    "from cvxopt.solvers import qp\n",
    "\n",
    "qudratic_problem = formulate_problem(X_train, y_train.astype(float), kernel, C, eps)\n",
    "\n",
    "results = qp(**qudratic_problem)"
   ]
  },
  {
   "cell_type": "markdown",
   "metadata": {
    "slideshow": {
     "slide_type": "fragment"
    }
   },
   "source": [
    "Extract optimal point form the results and force **small values** of the coefficients to **zero**."
   ]
  },
  {
   "cell_type": "code",
   "execution_count": 86,
   "metadata": {
    "collapsed": true
   },
   "outputs": [],
   "source": [
    "optimal_stacked_alpha = np.array(results['x']).ravel()\n",
    "\n",
    "zero_threshold = 1e-6\n",
    "### BEGIN Solution\n",
    "# force negligible values to be exactly zero\n",
    "optimal_stacked_alpha[np.absolute(optimal_stacked_alpha) < zero_threshold] = 0.0\n",
    "### END Solution"
   ]
  },
  {
   "cell_type": "markdown",
   "metadata": {
    "slideshow": {
     "slide_type": "slide"
    }
   },
   "source": [
    "### Prediction\n",
    "\n",
    "Having a kernel function $K$ and optimal $(\\alpha, \\alpha')$, implement a function\n",
    "that computes the dot product $(w \\cdot x_i)$:\n",
    "\n",
    "$$(w \\cdot x_{test}) = \\sum_{i=1}^l(\\alpha_i' - \\alpha_i)K(x_i, x_{test}) \\,. $$"
   ]
  },
  {
   "cell_type": "code",
   "execution_count": 87,
   "metadata": {
    "collapsed": true,
    "slideshow": {
     "slide_type": "fragment"
    }
   },
   "outputs": [],
   "source": [
    "def kernel_dot_product(X_train, y_train, X_test, kernel, alpha):\n",
    "    '''Calculate scalar product with vector w\n",
    "    based on support vectors and dual coefficients\n",
    "    :param: X_train np.array with train data\n",
    "    :param: y_train np.array with train labels\n",
    "    :param: X_test np.array with test data\n",
    "    :parma: kernel the kernel function\n",
    "    :param: alpha stacked dual coefficients\n",
    "    '''\n",
    "    output = np.zeros(len(X_test))\n",
    "\n",
    "    ### BEGIN Solution\n",
    "    n = X_train.shape[0]\n",
    "    I = np.eye(n)\n",
    "    R = np.block([-I,I])\n",
    "    K_train_test = kernel(X_train, X_test)\n",
    "    output[:] = alpha[np.newaxis, :] @ R.T @ K_train_test[:]\n",
    "    ### END Solution\n",
    "\n",
    "    return output"
   ]
  },
  {
   "cell_type": "markdown",
   "metadata": {
    "slideshow": {
     "slide_type": "slide"
    }
   },
   "source": [
    "### Constant Calculation\n",
    "\n",
    "The optimal constant $b$ can be derived from the theoretical properties of\n",
    "the support vectors:\n",
    "$$ b = y_i + \\epsilon - (w \\cdot x_i) \\, \\text{ if }\\, 0 < \\alpha_i < C \\,, $$\n",
    "and\n",
    "$$ b = y_i - \\epsilon - (w \\cdot x_i) \\, \\text{ if }\\, 0 < \\alpha_i' < C \\,. $$\n",
    "\n",
    "For example, on infinitely powerful hardware with infinite precision arithmetic\n",
    "you could have used any single support vector to get $b$. But it won't work IRL,\n",
    "where the most you can hope for is [IEEE 754](https://en.wikipedia.org/wiki/IEEE_754)\n",
    "quadruple precision [floating point numbers](https://en.wikipedia.org/wiki/Floating-point_arithmetic])\n",
    "(setting aside special libraries or hardware). In the **numpy-scipy-sklearn** stack\n",
    "on a typical x86-64 hardware your algorithms work in finite precision arithmetic, which\n",
    "is subject to roundoff errors. The arithmetic results are pretty accurate, but still\n",
    "**inexact**. Besides the numerical optimization algorithms (**cvxopt.qp**, **BFGS**,\n",
    "**Your own SGD** and the like) themselves aren't exact, and produce just an **extremely\n",
    "faithful** approximation of the optmial coefficients.\n",
    "\n",
    "Your task here is to use as many support vectors as possible to get an estimate of $b$."
   ]
  },
  {
   "cell_type": "code",
   "execution_count": 189,
   "metadata": {
    "collapsed": true,
    "slideshow": {
     "slide_type": "slide"
    }
   },
   "outputs": [],
   "source": [
    "def calculate_bias(X_train, y_train, kernel, alpha, eps=0.1):\n",
    "    \"\"\"Calculates the bias \n",
    "    :param: X_train np.array with train data\n",
    "    :param: y_train np.array with train labels\n",
    "    :parma: kernel the kernel function\n",
    "    :param: alpha stacked dual coefficients'''\n",
    "    \"\"\"\n",
    "    b = 0.0\n",
    "\n",
    "    ### BEGIN Solution\n",
    "    n = X_train.shape[0]\n",
    "    \n",
    "    ind_1 = (alpha[:n]>0) & (alpha[:n]<C) \n",
    "    ind_2 = (alpha[n:]>0) & (alpha[n:]<C)\n",
    "    b_1 = y_train[ind_1] + eps - kernel_dot_product(X_train, y_train, X[ind_1], kernel, alpha)\n",
    "    b_2 = y_train[ind_2] - eps - kernel_dot_product(X_train, y_train, X[ind_2], kernel, alpha)\n",
    "    \n",
    "    b = np.hstack([b_1,b_2]).mean()\n",
    "    print (np.mean(b))\n",
    "    ### END Solution\n",
    "\n",
    "    return b"
   ]
  },
  {
   "cell_type": "code",
   "execution_count": 190,
   "metadata": {
    "slideshow": {
     "slide_type": "fragment"
    }
   },
   "outputs": [
    {
     "name": "stdout",
     "output_type": "stream",
     "text": [
      "40.77966201996926\n"
     ]
    }
   ],
   "source": [
    "b = calculate_bias(X_train, y_train, kernel, optimal_stacked_alpha, eps)"
   ]
  },
  {
   "cell_type": "markdown",
   "metadata": {},
   "source": [
    "Now we use the optimal $b$ and $\\alpha, \\alpha'$ to get the predictions and finally plot\n",
    "a nice picture of the SVR."
   ]
  },
  {
   "cell_type": "code",
   "execution_count": 193,
   "metadata": {},
   "outputs": [
    {
     "name": "stdout",
     "output_type": "stream",
     "text": [
      "[ 0.60860442  0.52423448  0.74042193  1.25522713  2.06327801  3.15688436\n",
      "  4.52720392  6.16534377  8.06328051 10.21449343 12.6142269  15.25932952\n",
      " 18.14765613 21.2770611  24.6440535  28.24222289 32.06057429 36.08192939\n",
      " 40.28155626 44.62617968 49.07350056 53.57231629 58.0632881  62.48035025\n",
      " 66.7527037  70.80728883 74.57159153 77.97660845 80.95978298 83.46772397]\n"
     ]
    }
   ],
   "source": [
    "predictions = kernel_dot_product(X_train, y_train, x_test, kernel, optimal_stacked_alpha) + b\n",
    "print (predictions)"
   ]
  },
  {
   "cell_type": "code",
   "execution_count": 192,
   "metadata": {},
   "outputs": [
    {
     "data": {
      "text/plain": [
       "<matplotlib.legend.Legend at 0x7fa42e4c5470>"
      ]
     },
     "execution_count": 192,
     "metadata": {},
     "output_type": "execute_result"
    },
    {
     "data": {
      "image/png": "[encoded data removed]",
      "text/plain": [
       "<matplotlib.figure.Figure at 0x7fa42e492d30>"
      ]
     },
     "metadata": {},
     "output_type": "display_data"
    }
   ],
   "source": [
    "ax = plt.gca()\n",
    "ax.plot(x_grid, predictions, label='Predictions')\n",
    "ax.plot(X, y_train, 'o')\n",
    "ax.set_xlabel('Speed')\n",
    "ax.set_ylabel('Distance')\n",
    "ax.legend(loc='best')"
   ]
  },
  {
   "cell_type": "markdown",
   "metadata": {},
   "source": [
    "<br/> <!--Intentionally left blank-->"
   ]
  },
  {
   "cell_type": "markdown",
   "metadata": {},
   "source": [
    "## Task 3 (11 pt.)"
   ]
  },
  {
   "cell_type": "markdown",
   "metadata": {},
   "source": [
    "In this task we are going to use SVM for text classification. We will work with\n",
    "dataset which  contains different tweets with the related conversation context.\n",
    "Some of the tweets are generated by bots, others -- written by humans."
   ]
  },
  {
   "cell_type": "code",
   "execution_count": 374,
   "metadata": {
    "collapsed": true
   },
   "outputs": [],
   "source": [
    "train_data = pd.read_csv('data/bot_or_not_train_clean.txt', sep='\\t', index_col=0)\n",
    "\n",
    "test_data = pd.read_csv('data/bot_or_not_test.txt', sep='\\t', index_col=0)"
   ]
  },
  {
   "cell_type": "code",
   "execution_count": 375,
   "metadata": {},
   "outputs": [
    {
     "data": {
      "text/html": [
       "<div>\n",
       "<style>\n",
       "    .dataframe thead tr:only-child th {\n",
       "        text-align: right;\n",
       "    }\n",
       "\n",
       "    .dataframe thead th {\n",
       "        text-align: left;\n",
       "    }\n",
       "\n",
       "    .dataframe tbody tr th {\n",
       "        vertical-align: top;\n",
       "    }\n",
       "</style>\n",
       "<table border=\"1\" class=\"dataframe\">\n",
       "  <thead>\n",
       "    <tr style=\"text-align: right;\">\n",
       "      <th></th>\n",
       "      <th>context</th>\n",
       "      <th>response</th>\n",
       "      <th>human-generated</th>\n",
       "    </tr>\n",
       "    <tr>\n",
       "      <th>id</th>\n",
       "      <th></th>\n",
       "      <th></th>\n",
       "      <th></th>\n",
       "    </tr>\n",
       "  </thead>\n",
       "  <tbody>\n",
       "    <tr>\n",
       "      <th>0</th>\n",
       "      <td>&lt;first_speaker&gt; 95 degrees with &lt;number&gt; % hum...</td>\n",
       "      <td>&lt;second_speaker&gt; &lt;at&gt; i forgot that thanksabit...</td>\n",
       "      <td>0</td>\n",
       "    </tr>\n",
       "    <tr>\n",
       "      <th>1</th>\n",
       "      <td>&lt;first_speaker&gt; &lt;at&gt; &lt;at&gt; yar ! oy just appear...</td>\n",
       "      <td>&lt;first_speaker&gt; &lt;at&gt; lol b we 'll see . we hea...</td>\n",
       "      <td>0</td>\n",
       "    </tr>\n",
       "    <tr>\n",
       "      <th>2</th>\n",
       "      <td>&lt;first_speaker&gt; ohh ! deu certo ! ! dddddddddd...</td>\n",
       "      <td>&lt;second_speaker&gt; &lt;at&gt; acordei agora , qqqqq ? ...</td>\n",
       "      <td>1</td>\n",
       "    </tr>\n",
       "    <tr>\n",
       "      <th>3</th>\n",
       "      <td>&lt;first_speaker&gt; ughhhh i wanted a pickle . non...</td>\n",
       "      <td>&lt;second_speaker&gt; &lt;at&gt; lol gm</td>\n",
       "      <td>0</td>\n",
       "    </tr>\n",
       "    <tr>\n",
       "      <th>4</th>\n",
       "      <td>&lt;first_speaker&gt; &lt;at&gt; &lt;at&gt; &lt;at&gt; need to know to...</td>\n",
       "      <td>&lt;first_speaker&gt; &lt;at&gt; ok , will do - don 't be ...</td>\n",
       "      <td>1</td>\n",
       "    </tr>\n",
       "  </tbody>\n",
       "</table>\n",
       "</div>"
      ],
      "text/plain": [
       "                                              context  \\\n",
       "id                                                      \n",
       "0   <first_speaker> 95 degrees with <number> % hum...   \n",
       "1   <first_speaker> <at> <at> yar ! oy just appear...   \n",
       "2   <first_speaker> ohh ! deu certo ! ! dddddddddd...   \n",
       "3   <first_speaker> ughhhh i wanted a pickle . non...   \n",
       "4   <first_speaker> <at> <at> <at> need to know to...   \n",
       "\n",
       "                                             response  human-generated  \n",
       "id                                                                      \n",
       "0   <second_speaker> <at> i forgot that thanksabit...                0  \n",
       "1   <first_speaker> <at> lol b we 'll see . we hea...                0  \n",
       "2   <second_speaker> <at> acordei agora , qqqqq ? ...                1  \n",
       "3                        <second_speaker> <at> lol gm                0  \n",
       "4   <first_speaker> <at> ok , will do - don 't be ...                1  "
      ]
     },
     "execution_count": 375,
     "metadata": {},
     "output_type": "execute_result"
    }
   ],
   "source": [
    "train_data.head()"
   ]
  },
  {
   "cell_type": "markdown",
   "metadata": {},
   "source": [
    "Please notice that context and response columns contains raw text, which is not\n",
    "directly suitable for machine learning."
   ]
  },
  {
   "cell_type": "markdown",
   "metadata": {},
   "source": [
    "### Task 3.1 (6 pt.)"
   ]
  },
  {
   "cell_type": "markdown",
   "metadata": {},
   "source": [
    "To extract features we are going to use the **bag of words** techniques. Please read\n",
    "the documentation for `CountVectorizer` [in scikit](http://scikit-learn.org/stable/modules/generated/sklearn.feature_extraction.text.CountVectorizer.html)\n",
    "and do the following:\n",
    "\n",
    "* For both the context and the response generate a set of features using\n",
    "two separate count vectorizers.\n",
    "\n",
    "* Join this sets of features into one feature matrix (please notice that\n",
    "`CountVectorizer` returns Scipy [CSR sparse matrices](https://en.wikipedia.org/wiki/Sparse_matrix#Compressed_sparse_row_(CSR,_CRS_or_Yale_format)).\n",
    "\n",
    "* Pick the optimal $C$ for the **linear kernel** using cross valudation\n",
    "`GridSearchCV` and `ROC AUC` as the target metric.\n",
    "\n",
    "* Choose the optimal `gamma` and $C$ for the RBF kernel using cross valudation\n",
    "`GridSearchCV` targeting `ROC AUC` metric.\n",
    "\n",
    "* Take the **best models** with linear and RBF kernels, plot **their ROC curves**\n",
    "on the provided heldout test data on the same figure, and print their `ROC AUC`\n",
    "score. Which models work better on the test dataset?"
   ]
  },
  {
   "cell_type": "code",
   "execution_count": 376,
   "metadata": {
    "collapsed": true
   },
   "outputs": [],
   "source": [
    "from sklearn.feature_extraction.text import CountVectorizer\n",
    "from scipy import sparse\n",
    "from sklearn.metrics import roc_auc_score\n",
    "from sklearn.svm import SVC\n",
    "from sklearn.model_selection import GridSearchCV"
   ]
  },
  {
   "cell_type": "markdown",
   "metadata": {},
   "source": [
    "Generate feature matricies for the context and the response. Fill free to create additional\n",
    "feature extraction objects if you like."
   ]
  },
  {
   "cell_type": "code",
   "execution_count": 377,
   "metadata": {
    "collapsed": true
   },
   "outputs": [],
   "source": [
    "y_train = train_data['human-generated']\n",
    "\n",
    "### BEGIN Solution\n",
    "vectorizer_1 = CountVectorizer(lowercase=False)\n",
    "x_context = vectorizer_1.fit_transform(train_data['context'])\n",
    "\n",
    "vectorizer_2 = CountVectorizer(lowercase=False)\n",
    "x_response = vectorizer_2.fit_transform(train_data['response'])\n",
    "\n",
    "# Join the feature matrix\n",
    "x_train = sparse.hstack([x_context, x_response])\n",
    "\n",
    "### END Solution"
   ]
  },
  {
   "cell_type": "markdown",
   "metadata": {},
   "source": [
    "Generate the response and contet test sets with their **relevant** feature encodings."
   ]
  },
  {
   "cell_type": "code",
   "execution_count": 378,
   "metadata": {
    "collapsed": true
   },
   "outputs": [],
   "source": [
    "y_test = test_data['human-generated']\n",
    "\n",
    "### BEGIN Solution\n",
    "x_context_test = vectorizer_1.transform(test_data['context'])\n",
    "\n",
    "x_response_test = vectorizer_2.transform(test_data['response'])\n",
    "\n",
    "x_test = sparse.hstack([x_context_test, x_response_test])\n",
    "### END Solution"
   ]
  },
  {
   "cell_type": "markdown",
   "metadata": {},
   "source": [
    "Select the best linear model among $C \\in [\\mathtt{1.e-3}, .., \\mathtt{1.e3}]$."
   ]
  },
  {
   "cell_type": "code",
   "execution_count": 332,
   "metadata": {
    "collapsed": true
   },
   "outputs": [],
   "source": [
    "### BEGIN Solution\n",
    "# pick the best C\n",
    "\n",
    "parameters = {'C':np.linspace(1e-3, 1e3,30)}\n",
    "clf = GridSearchCV(SVC(kernel='linear', random_state= 42), parameters, scoring='roc_auc' ,verbose = 2,  n_jobs = -1)\n",
    "clf.fit(x_train, y_train)\n",
    "best_linear_model = clf.best_estimator_\n",
    "\n",
    "### END Solution"
   ]
  },
  {
   "cell_type": "markdown",
   "metadata": {},
   "source": [
    "Select the best RBF kernel model among the hyperparameters\n",
    "$C \\in [\\mathtt{1.e-3}, .., \\mathtt{1.e3}]$ and $\\gamma \\in [\\mathtt{1.e-3}, .., \\mathtt{1.e3}]$."
   ]
  },
  {
   "cell_type": "code",
   "execution_count": 380,
   "metadata": {},
   "outputs": [
    {
     "name": "stdout",
     "output_type": "stream",
     "text": [
      "Fitting 3 folds for each of 25 candidates, totalling 75 fits\n",
      "[CV] C=0.001, gamma=0.001 ............................................\n",
      "[CV] C=0.001, gamma=0.001 ............................................\n",
      "[CV] C=0.001, gamma=0.001 ............................................\n",
      "[CV] C=0.001, gamma=250.00075 ........................................\n",
      "[CV] ......................... C=0.001, gamma=250.00075, total=  41.6s\n",
      "[CV] C=0.001, gamma=250.00075 ........................................\n",
      "[CV] ............................. C=0.001, gamma=0.001, total=  43.7s\n",
      "[CV] C=0.001, gamma=250.00075 ........................................\n",
      "[CV] ............................. C=0.001, gamma=0.001, total=  44.3s\n",
      "[CV] C=0.001, gamma=500.0005 .........................................\n",
      "[CV] ............................. C=0.001, gamma=0.001, total=  44.7s\n",
      "[CV] C=0.001, gamma=500.0005 .........................................\n",
      "[CV] ......................... C=0.001, gamma=250.00075, total=  43.5s\n",
      "[CV] C=0.001, gamma=500.0005 .........................................\n",
      "[CV] ......................... C=0.001, gamma=250.00075, total=  43.0s\n",
      "[CV] C=0.001, gamma=750.00025 ........................................\n",
      "[CV] .......................... C=0.001, gamma=500.0005, total=  42.0s\n",
      "[CV] C=0.001, gamma=750.00025 ........................................\n",
      "[CV] .......................... C=0.001, gamma=500.0005, total=  43.9s\n",
      "[CV] C=0.001, gamma=750.00025 ........................................\n",
      "[CV] .......................... C=0.001, gamma=500.0005, total=  43.5s\n",
      "[CV] C=0.001, gamma=1000.0 ...........................................\n",
      "[CV] ......................... C=0.001, gamma=750.00025, total=  43.3s\n",
      "[CV] C=0.001, gamma=1000.0 ...........................................\n",
      "[CV] ......................... C=0.001, gamma=750.00025, total=  44.4s\n",
      "[CV] C=0.001, gamma=1000.0 ...........................................\n",
      "[CV] ......................... C=0.001, gamma=750.00025, total=  44.5s\n",
      "[CV] C=250.00075, gamma=0.001 ........................................\n",
      "[CV] ......................... C=250.00075, gamma=0.001, total=  47.5s\n",
      "[CV] C=250.00075, gamma=0.001 ........................................\n",
      "[CV] ............................ C=0.001, gamma=1000.0, total=  47.8s\n",
      "[CV] C=250.00075, gamma=0.001 ........................................\n",
      "[CV] ............................ C=0.001, gamma=1000.0, total=  45.1s\n",
      "[CV] C=250.00075, gamma=250.00075 ....................................\n",
      "[CV] ............................ C=0.001, gamma=1000.0, total=  45.5s\n",
      "[CV] C=250.00075, gamma=250.00075 ....................................\n",
      "[CV] ......................... C=250.00075, gamma=0.001, total=  44.0s\n",
      "[CV] C=250.00075, gamma=250.00075 ....................................\n",
      "[CV] ......................... C=250.00075, gamma=0.001, total=  46.4s\n",
      "[CV] C=250.00075, gamma=500.0005 .....................................\n",
      "[CV] ..................... C=250.00075, gamma=250.00075, total=  43.1s\n",
      "[CV] C=250.00075, gamma=500.0005 .....................................\n",
      "[CV] ..................... C=250.00075, gamma=250.00075, total=  43.4s\n",
      "[CV] C=250.00075, gamma=500.0005 .....................................\n",
      "[CV] ..................... C=250.00075, gamma=250.00075, total=  43.1s\n",
      "[CV] C=250.00075, gamma=750.00025 ....................................\n",
      "[CV] ...................... C=250.00075, gamma=500.0005, total=  43.4s\n",
      "[CV] C=250.00075, gamma=750.00025 ....................................\n",
      "[CV] ...................... C=250.00075, gamma=500.0005, total=  45.2s\n",
      "[CV] C=250.00075, gamma=750.00025 ....................................\n",
      "[CV] ...................... C=250.00075, gamma=500.0005, total=  46.1s\n",
      "[CV] C=250.00075, gamma=1000.0 .......................................\n",
      "[CV] ..................... C=250.00075, gamma=750.00025, total=  44.0s\n",
      "[CV] C=250.00075, gamma=1000.0 .......................................\n",
      "[CV] ..................... C=250.00075, gamma=750.00025, total=  45.0s\n",
      "[CV] C=250.00075, gamma=1000.0 .......................................\n",
      "[CV] ..................... C=250.00075, gamma=750.00025, total=  45.7s\n",
      "[CV] C=500.0005, gamma=0.001 .........................................\n",
      "[CV] ........................ C=250.00075, gamma=1000.0, total=  45.7s\n",
      "[CV] C=500.0005, gamma=0.001 .........................................\n",
      "[CV] ........................ C=250.00075, gamma=1000.0, total=  42.6s\n",
      "[CV] C=500.0005, gamma=0.001 .........................................\n",
      "[CV] ........................ C=250.00075, gamma=1000.0, total=  45.4s\n",
      "[CV] C=500.0005, gamma=250.00075 .....................................\n",
      "[CV] .......................... C=500.0005, gamma=0.001, total=  46.7s\n",
      "[CV] C=500.0005, gamma=250.00075 .....................................\n",
      "[CV] .......................... C=500.0005, gamma=0.001, total=  46.7s\n",
      "[CV] C=500.0005, gamma=250.00075 .....................................\n",
      "[CV] .......................... C=500.0005, gamma=0.001, total=  43.0s\n",
      "[CV] C=500.0005, gamma=500.0005 ......................................\n"
     ]
    },
    {
     "name": "stderr",
     "output_type": "stream",
     "text": [
      "[Parallel(n_jobs=4)]: Done  33 tasks      | elapsed: 10.6min\n"
     ]
    },
    {
     "name": "stdout",
     "output_type": "stream",
     "text": [
      "[CV] ...................... C=500.0005, gamma=250.00075, total=  41.3s\n",
      "[CV] C=500.0005, gamma=500.0005 ......................................\n",
      "[CV] ...................... C=500.0005, gamma=250.00075, total=  41.9s\n",
      "[CV] C=500.0005, gamma=500.0005 ......................................\n",
      "[CV] ...................... C=500.0005, gamma=250.00075, total=  43.9s\n",
      "[CV] C=500.0005, gamma=750.00025 .....................................\n",
      "[CV] ....................... C=500.0005, gamma=500.0005, total=  42.4s\n",
      "[CV] C=500.0005, gamma=750.00025 .....................................\n",
      "[CV] ....................... C=500.0005, gamma=500.0005, total=  41.6s\n",
      "[CV] C=500.0005, gamma=750.00025 .....................................\n",
      "[CV] ....................... C=500.0005, gamma=500.0005, total=  42.9s\n",
      "[CV] C=500.0005, gamma=1000.0 ........................................\n",
      "[CV] ...................... C=500.0005, gamma=750.00025, total=  43.7s\n",
      "[CV] C=500.0005, gamma=1000.0 ........................................\n",
      "[CV] ...................... C=500.0005, gamma=750.00025, total=  42.0s\n",
      "[CV] C=500.0005, gamma=1000.0 ........................................\n",
      "[CV] ...................... C=500.0005, gamma=750.00025, total=  42.6s\n",
      "[CV] C=750.00025, gamma=0.001 ........................................\n",
      "[CV] ......................... C=500.0005, gamma=1000.0, total=  42.7s\n",
      "[CV] C=750.00025, gamma=0.001 ........................................\n",
      "[CV] ......................... C=500.0005, gamma=1000.0, total=  43.8s\n",
      "[CV] C=750.00025, gamma=0.001 ........................................\n",
      "[CV] ......................... C=500.0005, gamma=1000.0, total=  43.7s\n",
      "[CV] C=750.00025, gamma=250.00075 ....................................\n",
      "[CV] ......................... C=750.00025, gamma=0.001, total=  47.8s\n",
      "[CV] C=750.00025, gamma=250.00075 ....................................\n",
      "[CV] ......................... C=750.00025, gamma=0.001, total=  48.5s\n",
      "[CV] C=750.00025, gamma=250.00075 ....................................\n",
      "[CV] ......................... C=750.00025, gamma=0.001, total=  44.9s\n",
      "[CV] C=750.00025, gamma=500.0005 .....................................\n",
      "[CV] ..................... C=750.00025, gamma=250.00075, total=  45.0s\n",
      "[CV] C=750.00025, gamma=500.0005 .....................................\n",
      "[CV] ..................... C=750.00025, gamma=250.00075, total=  44.8s\n",
      "[CV] C=750.00025, gamma=500.0005 .....................................\n",
      "[CV] ..................... C=750.00025, gamma=250.00075, total=  44.4s\n",
      "[CV] C=750.00025, gamma=750.00025 ....................................\n",
      "[CV] ...................... C=750.00025, gamma=500.0005, total=  45.5s\n",
      "[CV] C=750.00025, gamma=750.00025 ....................................\n",
      "[CV] ...................... C=750.00025, gamma=500.0005, total=  44.9s\n",
      "[CV] C=750.00025, gamma=750.00025 ....................................\n",
      "[CV] ...................... C=750.00025, gamma=500.0005, total=  43.9s\n",
      "[CV] C=750.00025, gamma=1000.0 .......................................\n",
      "[CV] ..................... C=750.00025, gamma=750.00025, total=  44.4s\n",
      "[CV] C=750.00025, gamma=1000.0 .......................................\n",
      "[CV] ..................... C=750.00025, gamma=750.00025, total=  45.2s\n",
      "[CV] C=750.00025, gamma=1000.0 .......................................\n",
      "[CV] ..................... C=750.00025, gamma=750.00025, total=  45.2s\n",
      "[CV] C=1000.0, gamma=0.001 ...........................................\n",
      "[CV] ........................ C=750.00025, gamma=1000.0, total=  44.9s\n",
      "[CV] C=1000.0, gamma=0.001 ...........................................\n",
      "[CV] ........................ C=750.00025, gamma=1000.0, total=  46.8s\n",
      "[CV] C=1000.0, gamma=0.001 ...........................................\n",
      "[CV] ........................ C=750.00025, gamma=1000.0, total=  45.0s\n",
      "[CV] C=1000.0, gamma=250.00075 .......................................\n",
      "[CV] ............................ C=1000.0, gamma=0.001, total=  45.5s\n",
      "[CV] C=1000.0, gamma=250.00075 .......................................\n",
      "[CV] ............................ C=1000.0, gamma=0.001, total=  45.6s\n",
      "[CV] C=1000.0, gamma=250.00075 .......................................\n",
      "[CV] ............................ C=1000.0, gamma=0.001, total=  48.7s\n",
      "[CV] C=1000.0, gamma=500.0005 ........................................\n",
      "[CV] ........................ C=1000.0, gamma=250.00075, total=  43.2s\n",
      "[CV] C=1000.0, gamma=500.0005 ........................................\n",
      "[CV] ........................ C=1000.0, gamma=250.00075, total=  44.3s\n",
      "[CV] C=1000.0, gamma=500.0005 ........................................\n",
      "[CV] ........................ C=1000.0, gamma=250.00075, total=  44.1s\n",
      "[CV] C=1000.0, gamma=750.00025 .......................................\n",
      "[CV] ......................... C=1000.0, gamma=500.0005, total=  43.1s\n",
      "[CV] C=1000.0, gamma=750.00025 .......................................\n",
      "[CV] ......................... C=1000.0, gamma=500.0005, total=  44.9s\n",
      "[CV] C=1000.0, gamma=750.00025 .......................................\n",
      "[CV] ......................... C=1000.0, gamma=500.0005, total=  48.3s\n",
      "[CV] C=1000.0, gamma=1000.0 ..........................................\n",
      "[CV] ........................ C=1000.0, gamma=750.00025, total=  47.0s\n",
      "[CV] C=1000.0, gamma=1000.0 ..........................................\n",
      "[CV] ........................ C=1000.0, gamma=750.00025, total=  49.2s\n",
      "[CV] C=1000.0, gamma=1000.0 ..........................................\n",
      "[CV] ........................ C=1000.0, gamma=750.00025, total=  50.3s\n",
      "[CV] ........................... C=1000.0, gamma=1000.0, total=  36.8s\n",
      "[CV] ........................... C=1000.0, gamma=1000.0, total=  41.7s\n",
      "[CV] ........................... C=1000.0, gamma=1000.0, total=  39.0s\n"
     ]
    },
    {
     "name": "stderr",
     "output_type": "stream",
     "text": [
      "[Parallel(n_jobs=4)]: Done  75 out of  75 | elapsed: 22.8min finished\n"
     ]
    }
   ],
   "source": [
    "### BEGIN Solution\n",
    "# pick the best C and gamma\n",
    "\n",
    "parameters_2 = {'C':np.linspace(1e-3, 1e3,5, endpoint=True), 'gamma':np.linspace(1e-3, 1e3,5, endpoint=True)}\n",
    "clf_2= GridSearchCV(SVC(kernel='rbf', random_state= 42), parameters_2, scoring='roc_auc' ,verbose = 2,  n_jobs = 4)\n",
    "clf_2.fit(x_train, y_train)\n",
    "best_kernel_model = clf_2.best_estimator_\n",
    "\n",
    "### END Solution"
   ]
  },
  {
   "cell_type": "markdown",
   "metadata": {},
   "source": [
    "Plot the `ROC` curves of both models and their `ROC AUC` scores."
   ]
  },
  {
   "cell_type": "code",
   "execution_count": 405,
   "metadata": {},
   "outputs": [
    {
     "data": {
      "image/png": "[encoded data removed]",
      "text/plain": [
       "<matplotlib.figure.Figure at 0x7fa0caad6940>"
      ]
     },
     "metadata": {},
     "output_type": "display_data"
    }
   ],
   "source": [
    "from sklearn.metrics import roc_curve\n",
    "### BEGIN Solution\n",
    "predictions_lin = best_linear_model.decision_function(x_train)\n",
    "predictions_rbf = best_kernel_model.decision_function(x_train)\n",
    "fpr_lin, tpr_lin, _ = roc_curve(y_train, predictions_lin)\n",
    "fpr_rbf, tpr_rbf, _ = roc_curve(y_train, predictions_rbf)\n",
    "auc_lin = roc_auc_score(y_train, predictions_lin)\n",
    "auc_rbf = roc_auc_score(y_train, predictions_rbf)\n",
    "\n",
    "plt.figure(figsize = (10,7))\n",
    "plt.plot(fpr_lin, tpr_lin, color='darkorange', label='ROC curve (linear) (AUC = %0.2f)' % auc_lin)\n",
    "plt.plot(fpr_rbf, tpr_rbf, color='lawngreen', label='ROC curve (Kernel) (AUC = %0.2f)' % auc_rbf)\n",
    "plt.plot([0, 1], [0, 1], color='navy', linestyle='--')\n",
    "plt.xlim([0.0, 1.0])\n",
    "plt.ylim([0.0, 1.05])\n",
    "plt.xlabel('False Positive Rate')\n",
    "plt.ylabel('True Positive Rate')\n",
    "plt.title('ROCs')\n",
    "plt.legend(loc=\"lower right\")\n",
    "plt.show()\n",
    "### END Solution"
   ]
  },
  {
   "cell_type": "markdown",
   "metadata": {},
   "source": [
    "... and the best model is...?"
   ]
  },
  {
   "cell_type": "code",
   "execution_count": 406,
   "metadata": {},
   "outputs": [
    {
     "name": "stdout",
     "output_type": "stream",
     "text": [
      "Test ROC AUC = 0.6441277961315569\n"
     ]
    }
   ],
   "source": [
    "best_model = best_linear_model\n",
    "test_predictions = best_model.decision_function(x_test)\n",
    "test_score = roc_auc_score(y_test, test_predictions)\n",
    "print(\"Test ROC AUC = {}\".format(test_score))"
   ]
  },
  {
   "cell_type": "markdown",
   "metadata": {},
   "source": [
    "### Task 3.2 (5 pt.)"
   ]
  },
  {
   "cell_type": "markdown",
   "metadata": {},
   "source": [
    "Now you are asked to **redo the last task (3.1)**, bit this time with more advanced\n",
    "features generated by [TfidfVectorizer](https://en.wikipedia.org/wiki/Tf%E2%80%93idf).\n",
    "To do this you can use `TfidfVectorizer` from sklearn.\n"
   ]
  },
  {
   "cell_type": "code",
   "execution_count": 407,
   "metadata": {
    "collapsed": true
   },
   "outputs": [],
   "source": [
    "from sklearn.feature_extraction.text import TfidfVectorizer"
   ]
  },
  {
   "cell_type": "markdown",
   "metadata": {},
   "source": [
    "Generate feature matricies for context and response. Fill free to create\n",
    "additional feature extraction object if necessary."
   ]
  },
  {
   "cell_type": "code",
   "execution_count": 414,
   "metadata": {
    "collapsed": true
   },
   "outputs": [],
   "source": [
    "### BEGIN Solution\n",
    "vectorizer_1_tf = TfidfVectorizer(lowercase=False)\n",
    "x_context = vectorizer_1_tf.fit_transform(train_data['context'])\n",
    "\n",
    "vectorizer_2_tf = TfidfVectorizer(lowercase=False)\n",
    "x_response = vectorizer_2_tf.fit_transform(train_data['response'])\n",
    "\n",
    "# Join the feature matrix\n",
    "x_train = sparse.hstack([x_context, x_response])\n",
    "### END Solution"
   ]
  },
  {
   "cell_type": "markdown",
   "metadata": {},
   "source": [
    "Generate the response and contet test sets with their **relevant** feature encodings."
   ]
  },
  {
   "cell_type": "code",
   "execution_count": 415,
   "metadata": {
    "collapsed": true
   },
   "outputs": [],
   "source": [
    "### BEGIN Solution\n",
    "y_test = test_data['human-generated']\n",
    "\n",
    "### BEGIN Solution\n",
    "x_context_test = vectorizer_1_tf.transform(test_data['context'])\n",
    "\n",
    "x_response_test = vectorizer_2_tf.transform(test_data['response'])\n",
    "\n",
    "x_test = sparse.hstack([x_context_test, x_response_test])\n",
    "### END Solution"
   ]
  },
  {
   "cell_type": "markdown",
   "metadata": {},
   "source": [
    "Select the best linear model among $C \\in [\\mathtt{1.e-3}, .., \\mathtt{1.e3}]$."
   ]
  },
  {
   "cell_type": "code",
   "execution_count": 416,
   "metadata": {},
   "outputs": [
    {
     "name": "stdout",
     "output_type": "stream",
     "text": [
      "Fitting 3 folds for each of 30 candidates, totalling 90 fits\n",
      "[CV] C=0.001 .........................................................\n",
      "[CV] C=0.001 .........................................................\n",
      "[CV] C=0.001 .........................................................\n",
      "[CV] C=34.483724137931034 ............................................\n",
      "[CV] .......................................... C=0.001, total=  40.1s\n",
      "[CV] C=34.483724137931034 ............................................\n",
      "[CV] .......................................... C=0.001, total=  40.3s\n",
      "[CV] C=34.483724137931034 ............................................\n",
      "[CV] ............................. C=34.483724137931034, total=  45.0s\n",
      "[CV] C=68.96644827586208 .............................................\n",
      "[CV] .......................................... C=0.001, total=  41.0s\n",
      "[CV] C=68.96644827586208 .............................................\n",
      "[CV] .............................. C=68.96644827586208, total=  40.0s\n",
      "[CV] C=68.96644827586208 .............................................\n",
      "[CV] ............................. C=34.483724137931034, total=  41.4s\n",
      "[CV] C=103.44917241379312 ............................................\n",
      "[CV] .............................. C=68.96644827586208, total=  45.8s\n",
      "[CV] C=103.44917241379312 ............................................\n",
      "[CV] ............................. C=34.483724137931034, total=  44.8s\n",
      "[CV] C=103.44917241379312 ............................................\n",
      "[CV] ............................. C=103.44917241379312, total=  41.3s\n",
      "[CV] C=137.93189655172415 ............................................\n",
      "[CV] ............................. C=103.44917241379312, total=  43.0s\n",
      "[CV] C=137.93189655172415 ............................................\n",
      "[CV] ............................. C=103.44917241379312, total=  48.7s\n",
      "[CV] C=137.93189655172415 ............................................\n",
      "[CV] .............................. C=68.96644827586208, total=  50.4s\n",
      "[CV] C=172.41462068965518 ............................................\n",
      "[CV] ............................. C=137.93189655172415, total=  38.7s\n",
      "[CV] C=172.41462068965518 ............................................\n",
      "[CV] ............................. C=137.93189655172415, total=  39.4s\n",
      "[CV] C=172.41462068965518 ............................................\n",
      "[CV] ............................. C=137.93189655172415, total=  43.9s\n",
      "[CV] C=206.89734482758624 ............................................\n",
      "[CV] ............................. C=172.41462068965518, total=  43.8s\n",
      "[CV] C=206.89734482758624 ............................................\n",
      "[CV] ............................. C=172.41462068965518, total=  39.0s\n",
      "[CV] C=206.89734482758624 ............................................\n",
      "[CV] ............................. C=172.41462068965518, total=  38.8s\n",
      "[CV] C=241.38006896551727 ............................................\n",
      "[CV] ............................. C=206.89734482758624, total=  39.1s\n",
      "[CV] C=241.38006896551727 ............................................\n",
      "[CV] ............................. C=206.89734482758624, total=  43.9s\n",
      "[CV] C=241.38006896551727 ............................................\n",
      "[CV] ............................. C=206.89734482758624, total=  38.8s\n",
      "[CV] C=275.86279310344827 ............................................\n",
      "[CV] ............................. C=241.38006896551727, total=  43.4s\n",
      "[CV] C=275.86279310344827 ............................................\n",
      "[CV] ............................. C=241.38006896551727, total=  38.9s\n",
      "[CV] C=275.86279310344827 ............................................\n",
      "[CV] ............................. C=241.38006896551727, total=  39.7s\n",
      "[CV] C=310.3455172413793 .............................................\n",
      "[CV] ............................. C=275.86279310344827, total=  43.5s\n",
      "[CV] C=310.3455172413793 .............................................\n",
      "[CV] ............................. C=275.86279310344827, total=  38.4s\n",
      "[CV] C=310.3455172413793 .............................................\n",
      "[CV] ............................. C=275.86279310344827, total=  39.8s\n",
      "[CV] C=344.8282413793103 .............................................\n",
      "[CV] .............................. C=310.3455172413793, total=  43.7s\n",
      "[CV] C=344.8282413793103 .............................................\n",
      "[CV] .............................. C=310.3455172413793, total=  39.2s\n",
      "[CV] C=344.8282413793103 .............................................\n",
      "[CV] .............................. C=310.3455172413793, total=  39.1s\n",
      "[CV] C=379.31096551724136 ............................................\n",
      "[CV] .............................. C=344.8282413793103, total=  44.6s\n",
      "[CV] C=379.31096551724136 ............................................\n",
      "[CV] .............................. C=344.8282413793103, total=  39.7s\n",
      "[CV] C=379.31096551724136 ............................................\n",
      "[CV] .............................. C=344.8282413793103, total=  39.3s\n",
      "[CV] C=413.79368965517244 ............................................\n"
     ]
    },
    {
     "name": "stderr",
     "output_type": "stream",
     "text": [
      "[Parallel(n_jobs=-1)]: Done  33 tasks      | elapsed:  9.4min\n"
     ]
    },
    {
     "name": "stdout",
     "output_type": "stream",
     "text": [
      "[CV] ............................. C=379.31096551724136, total=  43.6s\n",
      "[CV] C=413.79368965517244 ............................................\n",
      "[CV] ............................. C=379.31096551724136, total=  39.0s\n",
      "[CV] C=413.79368965517244 ............................................\n",
      "[CV] ............................. C=379.31096551724136, total=  39.6s\n",
      "[CV] C=448.2764137931035 .............................................\n",
      "[CV] ............................. C=413.79368965517244, total=  38.4s\n",
      "[CV] C=448.2764137931035 .............................................\n",
      "[CV] ............................. C=413.79368965517244, total=  44.0s\n",
      "[CV] C=448.2764137931035 .............................................\n",
      "[CV] ............................. C=413.79368965517244, total=  39.3s\n",
      "[CV] C=482.7591379310345 .............................................\n",
      "[CV] .............................. C=448.2764137931035, total=  44.0s\n",
      "[CV] C=482.7591379310345 .............................................\n",
      "[CV] .............................. C=448.2764137931035, total=  38.8s\n",
      "[CV] C=482.7591379310345 .............................................\n",
      "[CV] .............................. C=448.2764137931035, total=  39.0s\n",
      "[CV] C=517.2418620689655 .............................................\n",
      "[CV] .............................. C=482.7591379310345, total=  43.9s\n",
      "[CV] C=517.2418620689655 .............................................\n",
      "[CV] .............................. C=482.7591379310345, total=  38.9s\n",
      "[CV] C=517.2418620689655 .............................................\n",
      "[CV] .............................. C=482.7591379310345, total=  38.6s\n",
      "[CV] C=551.7245862068966 .............................................\n",
      "[CV] .............................. C=517.2418620689655, total=  43.7s\n",
      "[CV] C=551.7245862068966 .............................................\n",
      "[CV] .............................. C=517.2418620689655, total=  39.1s\n",
      "[CV] C=551.7245862068966 .............................................\n",
      "[CV] .............................. C=517.2418620689655, total=  39.1s\n",
      "[CV] C=586.2073103448276 .............................................\n",
      "[CV] .............................. C=551.7245862068966, total=  44.4s\n",
      "[CV] C=586.2073103448276 .............................................\n",
      "[CV] .............................. C=551.7245862068966, total=  38.7s\n",
      "[CV] C=586.2073103448276 .............................................\n",
      "[CV] .............................. C=551.7245862068966, total=  40.7s\n",
      "[CV] C=620.6900344827586 .............................................\n",
      "[CV] .............................. C=586.2073103448276, total=  43.1s\n",
      "[CV] C=620.6900344827586 .............................................\n",
      "[CV] .............................. C=586.2073103448276, total=  39.3s\n",
      "[CV] C=620.6900344827586 .............................................\n",
      "[CV] .............................. C=586.2073103448276, total=  38.6s\n",
      "[CV] C=655.1727586206897 .............................................\n",
      "[CV] .............................. C=620.6900344827586, total=  43.5s\n",
      "[CV] C=655.1727586206897 .............................................\n",
      "[CV] .............................. C=620.6900344827586, total=  40.2s\n",
      "[CV] C=655.1727586206897 .............................................\n",
      "[CV] .............................. C=620.6900344827586, total=  39.6s\n",
      "[CV] C=689.6554827586207 .............................................\n",
      "[CV] .............................. C=655.1727586206897, total=  43.7s\n",
      "[CV] C=689.6554827586207 .............................................\n",
      "[CV] .............................. C=655.1727586206897, total=  39.3s\n",
      "[CV] C=689.6554827586207 .............................................\n",
      "[CV] .............................. C=655.1727586206897, total=  38.7s\n",
      "[CV] C=724.1382068965518 .............................................\n",
      "[CV] .............................. C=689.6554827586207, total=  54.0s\n",
      "[CV] C=724.1382068965518 .............................................\n",
      "[CV] .............................. C=689.6554827586207, total=  49.8s\n",
      "[CV] C=724.1382068965518 .............................................\n",
      "[CV] .............................. C=689.6554827586207, total=  50.6s\n",
      "[CV] C=758.6209310344827 .............................................\n",
      "[CV] .............................. C=724.1382068965518, total=  55.0s\n",
      "[CV] C=758.6209310344827 .............................................\n",
      "[CV] .............................. C=724.1382068965518, total=  48.1s\n",
      "[CV] C=758.6209310344827 .............................................\n",
      "[CV] .............................. C=724.1382068965518, total=  48.4s\n",
      "[CV] C=793.1036551724138 .............................................\n",
      "[CV] .............................. C=758.6209310344827, total=  53.9s\n",
      "[CV] C=793.1036551724138 .............................................\n",
      "[CV] .............................. C=758.6209310344827, total=  50.0s\n",
      "[CV] C=793.1036551724138 .............................................\n",
      "[CV] .............................. C=758.6209310344827, total=  40.4s\n",
      "[CV] C=827.5863793103449 .............................................\n",
      "[CV] .............................. C=793.1036551724138, total=  44.6s\n",
      "[CV] C=827.5863793103449 .............................................\n",
      "[CV] .............................. C=793.1036551724138, total=  39.1s\n",
      "[CV] C=827.5863793103449 .............................................\n",
      "[CV] .............................. C=793.1036551724138, total=  39.8s\n",
      "[CV] C=862.0691034482759 .............................................\n",
      "[CV] .............................. C=827.5863793103449, total=  39.3s\n",
      "[CV] C=862.0691034482759 .............................................\n",
      "[CV] .............................. C=827.5863793103449, total=  44.5s\n",
      "[CV] C=862.0691034482759 .............................................\n",
      "[CV] .............................. C=827.5863793103449, total=  39.4s\n",
      "[CV] C=896.551827586207 ..............................................\n",
      "[CV] .............................. C=862.0691034482759, total=  43.8s\n",
      "[CV] C=896.551827586207 ..............................................\n",
      "[CV] .............................. C=862.0691034482759, total=  38.8s\n",
      "[CV] C=896.551827586207 ..............................................\n",
      "[CV] .............................. C=862.0691034482759, total=  39.3s\n",
      "[CV] C=931.0345517241379 .............................................\n",
      "[CV] ............................... C=896.551827586207, total=  44.0s\n",
      "[CV] C=931.0345517241379 .............................................\n",
      "[CV] ............................... C=896.551827586207, total=  39.3s\n",
      "[CV] C=931.0345517241379 .............................................\n",
      "[CV] ............................... C=896.551827586207, total=  39.5s\n",
      "[CV] C=965.517275862069 ..............................................\n",
      "[CV] .............................. C=931.0345517241379, total=  43.6s\n",
      "[CV] C=965.517275862069 ..............................................\n",
      "[CV] .............................. C=931.0345517241379, total=  38.8s\n",
      "[CV] C=965.517275862069 ..............................................\n",
      "[CV] .............................. C=931.0345517241379, total=  39.1s\n",
      "[CV] C=1000.0 ........................................................\n",
      "[CV] ............................... C=965.517275862069, total=  39.0s\n",
      "[CV] C=1000.0 ........................................................\n",
      "[CV] ............................... C=965.517275862069, total=  44.1s\n",
      "[CV] C=1000.0 ........................................................\n",
      "[CV] ............................... C=965.517275862069, total=  39.1s\n",
      "[CV] ......................................... C=1000.0, total=  43.9s\n",
      "[CV] ......................................... C=1000.0, total=  29.9s\n",
      "[CV] ......................................... C=1000.0, total=  29.8s\n"
     ]
    },
    {
     "name": "stderr",
     "output_type": "stream",
     "text": [
      "[Parallel(n_jobs=-1)]: Done  90 out of  90 | elapsed: 23.9min finished\n"
     ]
    }
   ],
   "source": [
    "### BEGIN Solution\n",
    "# pick the best C\n",
    "\n",
    "parameters_3 = {'C':np.linspace(1e-3, 1e3,30)}\n",
    "clf_3 = GridSearchCV(SVC(kernel='linear', random_state= 42), parameters_3, scoring='roc_auc' ,verbose = 2,  n_jobs = -1)\n",
    "clf_3.fit(x_train, y_train)\n",
    "best_linear_model = clf_3.best_estimator_\n",
    "\n",
    "### END Solution"
   ]
  },
  {
   "cell_type": "markdown",
   "metadata": {},
   "source": [
    "Select the best RBF kernel model among the hyperparameters\n",
    "$C \\in [\\mathtt{1.e-3}, .., \\mathtt{1.e3}]$ and $\\gamma \\in [\\mathtt{1.e-3}, .., \\mathtt{1.e3}]$."
   ]
  },
  {
   "cell_type": "code",
   "execution_count": 417,
   "metadata": {},
   "outputs": [
    {
     "name": "stdout",
     "output_type": "stream",
     "text": [
      "Fitting 3 folds for each of 25 candidates, totalling 75 fits\n",
      "[CV] C=0.001, gamma=0.001 ............................................\n",
      "[CV] C=0.001, gamma=0.001 ............................................\n",
      "[CV] C=0.001, gamma=0.001 ............................................\n",
      "[CV] C=0.001, gamma=250.00075 ........................................\n",
      "[CV] ............................. C=0.001, gamma=0.001, total=  44.6s\n",
      "[CV] C=0.001, gamma=250.00075 ........................................\n",
      "[CV] ......................... C=0.001, gamma=250.00075, total=  43.0s\n",
      "[CV] C=0.001, gamma=250.00075 ........................................\n",
      "[CV] ............................. C=0.001, gamma=0.001, total=  45.6s\n",
      "[CV] C=0.001, gamma=500.0005 .........................................\n",
      "[CV] ............................. C=0.001, gamma=0.001, total=  45.7s\n",
      "[CV] C=0.001, gamma=500.0005 .........................................\n",
      "[CV] ......................... C=0.001, gamma=250.00075, total=  41.8s\n",
      "[CV] C=0.001, gamma=500.0005 .........................................\n",
      "[CV] ......................... C=0.001, gamma=250.00075, total=  42.7s\n",
      "[CV] C=0.001, gamma=750.00025 ........................................\n",
      "[CV] .......................... C=0.001, gamma=500.0005, total=  41.6s\n",
      "[CV] C=0.001, gamma=750.00025 ........................................\n",
      "[CV] .......................... C=0.001, gamma=500.0005, total=  42.7s\n",
      "[CV] C=0.001, gamma=750.00025 ........................................\n",
      "[CV] .......................... C=0.001, gamma=500.0005, total=  41.9s\n",
      "[CV] C=0.001, gamma=1000.0 ...........................................\n",
      "[CV] ......................... C=0.001, gamma=750.00025, total=  42.3s\n",
      "[CV] C=0.001, gamma=1000.0 ...........................................\n",
      "[CV] ......................... C=0.001, gamma=750.00025, total=  41.8s\n",
      "[CV] C=0.001, gamma=1000.0 ...........................................\n",
      "[CV] ......................... C=0.001, gamma=750.00025, total=  43.5s\n",
      "[CV] C=250.00075, gamma=0.001 ........................................\n",
      "[CV] ............................ C=0.001, gamma=1000.0, total=  41.3s\n",
      "[CV] C=250.00075, gamma=0.001 ........................................\n",
      "[CV] ......................... C=250.00075, gamma=0.001, total=  38.1s\n",
      "[CV] C=250.00075, gamma=0.001 ........................................\n",
      "[CV] ............................ C=0.001, gamma=1000.0, total=  41.2s\n",
      "[CV] C=250.00075, gamma=250.00075 ....................................\n",
      "[CV] ............................ C=0.001, gamma=1000.0, total=  41.3s\n",
      "[CV] C=250.00075, gamma=250.00075 ....................................\n",
      "[CV] ......................... C=250.00075, gamma=0.001, total=  37.5s\n",
      "[CV] C=250.00075, gamma=250.00075 ....................................\n",
      "[CV] ......................... C=250.00075, gamma=0.001, total=  37.6s\n",
      "[CV] C=250.00075, gamma=500.0005 .....................................\n",
      "[CV] ..................... C=250.00075, gamma=250.00075, total=  42.2s\n",
      "[CV] C=250.00075, gamma=500.0005 .....................................\n",
      "[CV] ..................... C=250.00075, gamma=250.00075, total=  42.6s\n",
      "[CV] C=250.00075, gamma=500.0005 .....................................\n",
      "[CV] ..................... C=250.00075, gamma=250.00075, total=  41.4s\n",
      "[CV] C=250.00075, gamma=750.00025 ....................................\n",
      "[CV] ...................... C=250.00075, gamma=500.0005, total=  41.3s\n",
      "[CV] C=250.00075, gamma=750.00025 ....................................\n",
      "[CV] ...................... C=250.00075, gamma=500.0005, total=  41.9s\n",
      "[CV] C=250.00075, gamma=750.00025 ....................................\n",
      "[CV] ...................... C=250.00075, gamma=500.0005, total=  42.0s\n",
      "[CV] C=250.00075, gamma=1000.0 .......................................\n",
      "[CV] ..................... C=250.00075, gamma=750.00025, total=  41.5s\n",
      "[CV] C=250.00075, gamma=1000.0 .......................................\n",
      "[CV] ..................... C=250.00075, gamma=750.00025, total=  42.2s\n",
      "[CV] C=250.00075, gamma=1000.0 .......................................\n",
      "[CV] ..................... C=250.00075, gamma=750.00025, total=  42.1s\n",
      "[CV] C=500.0005, gamma=0.001 .........................................\n",
      "[CV] ........................ C=250.00075, gamma=1000.0, total=  41.9s\n",
      "[CV] C=500.0005, gamma=0.001 .........................................\n",
      "[CV] ........................ C=250.00075, gamma=1000.0, total=  41.8s\n",
      "[CV] C=500.0005, gamma=0.001 .........................................\n",
      "[CV] ........................ C=250.00075, gamma=1000.0, total=  41.3s\n",
      "[CV] C=500.0005, gamma=250.00075 .....................................\n",
      "[CV] .......................... C=500.0005, gamma=0.001, total=  39.3s\n",
      "[CV] C=500.0005, gamma=250.00075 .....................................\n",
      "[CV] .......................... C=500.0005, gamma=0.001, total=  38.7s\n",
      "[CV] C=500.0005, gamma=250.00075 .....................................\n",
      "[CV] .......................... C=500.0005, gamma=0.001, total=  38.7s\n",
      "[CV] C=500.0005, gamma=500.0005 ......................................\n"
     ]
    },
    {
     "name": "stderr",
     "output_type": "stream",
     "text": [
      "[Parallel(n_jobs=-1)]: Done  33 tasks      | elapsed: 10.2min\n"
     ]
    },
    {
     "name": "stdout",
     "output_type": "stream",
     "text": [
      "[CV] ...................... C=500.0005, gamma=250.00075, total=  41.7s\n",
      "[CV] C=500.0005, gamma=500.0005 ......................................\n",
      "[CV] ...................... C=500.0005, gamma=250.00075, total=  41.9s\n",
      "[CV] C=500.0005, gamma=500.0005 ......................................\n",
      "[CV] ...................... C=500.0005, gamma=250.00075, total=  42.5s\n",
      "[CV] C=500.0005, gamma=750.00025 .....................................\n",
      "[CV] ....................... C=500.0005, gamma=500.0005, total=  41.3s\n",
      "[CV] C=500.0005, gamma=750.00025 .....................................\n",
      "[CV] ....................... C=500.0005, gamma=500.0005, total=  41.9s\n",
      "[CV] C=500.0005, gamma=750.00025 .....................................\n",
      "[CV] ....................... C=500.0005, gamma=500.0005, total=  42.1s\n",
      "[CV] C=500.0005, gamma=1000.0 ........................................\n",
      "[CV] ...................... C=500.0005, gamma=750.00025, total=  42.8s\n",
      "[CV] C=500.0005, gamma=1000.0 ........................................\n",
      "[CV] ...................... C=500.0005, gamma=750.00025, total=  51.9s\n",
      "[CV] C=500.0005, gamma=1000.0 ........................................\n",
      "[CV] ...................... C=500.0005, gamma=750.00025, total=  52.4s\n",
      "[CV] C=750.00025, gamma=0.001 ........................................\n",
      "[CV] ......................... C=500.0005, gamma=1000.0, total=  52.2s\n",
      "[CV] C=750.00025, gamma=0.001 ........................................\n",
      "[CV] ......................... C=500.0005, gamma=1000.0, total=  50.5s\n",
      "[CV] C=750.00025, gamma=0.001 ........................................\n",
      "[CV] ......................... C=500.0005, gamma=1000.0, total=  44.5s\n",
      "[CV] C=750.00025, gamma=250.00075 ....................................\n",
      "[CV] ......................... C=750.00025, gamma=0.001, total=  43.5s\n",
      "[CV] C=750.00025, gamma=250.00075 ....................................\n",
      "[CV] ......................... C=750.00025, gamma=0.001, total=  40.7s\n",
      "[CV] C=750.00025, gamma=250.00075 ....................................\n",
      "[CV] ......................... C=750.00025, gamma=0.001, total=  41.2s\n",
      "[CV] C=750.00025, gamma=500.0005 .....................................\n",
      "[CV] ..................... C=750.00025, gamma=250.00075, total=  53.9s\n",
      "[CV] C=750.00025, gamma=500.0005 .....................................\n",
      "[CV] ...................... C=750.00025, gamma=500.0005, total=  53.8s\n",
      "[CV] C=750.00025, gamma=500.0005 .....................................\n",
      "[CV] ..................... C=750.00025, gamma=250.00075, total=  54.8s\n",
      "[CV] C=750.00025, gamma=750.00025 ....................................\n",
      "[CV] ..................... C=750.00025, gamma=250.00075, total=  55.0s\n",
      "[CV] C=750.00025, gamma=750.00025 ....................................\n",
      "[CV] ...................... C=750.00025, gamma=500.0005, total=  44.9s\n",
      "[CV] C=750.00025, gamma=750.00025 ....................................\n",
      "[CV] ...................... C=750.00025, gamma=500.0005, total=  44.8s\n",
      "[CV] C=750.00025, gamma=1000.0 .......................................\n",
      "[CV] ..................... C=750.00025, gamma=750.00025, total=  45.0s\n",
      "[CV] C=750.00025, gamma=1000.0 .......................................\n",
      "[CV] ..................... C=750.00025, gamma=750.00025, total=  44.8s\n",
      "[CV] C=750.00025, gamma=1000.0 .......................................\n",
      "[CV] ..................... C=750.00025, gamma=750.00025, total=  41.3s\n",
      "[CV] C=1000.0, gamma=0.001 ...........................................\n",
      "[CV] ........................ C=750.00025, gamma=1000.0, total=  43.0s\n",
      "[CV] C=1000.0, gamma=0.001 ...........................................\n",
      "[CV] ........................ C=750.00025, gamma=1000.0, total=  41.8s\n",
      "[CV] C=1000.0, gamma=0.001 ...........................................\n",
      "[CV] ........................ C=750.00025, gamma=1000.0, total=  42.7s\n",
      "[CV] C=1000.0, gamma=250.00075 .......................................\n",
      "[CV] ............................ C=1000.0, gamma=0.001, total=  42.4s\n",
      "[CV] C=1000.0, gamma=250.00075 .......................................\n",
      "[CV] ............................ C=1000.0, gamma=0.001, total=  42.5s\n",
      "[CV] C=1000.0, gamma=250.00075 .......................................\n",
      "[CV] ............................ C=1000.0, gamma=0.001, total=  42.0s\n",
      "[CV] C=1000.0, gamma=500.0005 ........................................\n",
      "[CV] ........................ C=1000.0, gamma=250.00075, total=  43.2s\n",
      "[CV] C=1000.0, gamma=500.0005 ........................................\n",
      "[CV] ........................ C=1000.0, gamma=250.00075, total=  42.7s\n",
      "[CV] C=1000.0, gamma=500.0005 ........................................\n",
      "[CV] ......................... C=1000.0, gamma=500.0005, total=  43.2s\n",
      "[CV] C=1000.0, gamma=750.00025 .......................................\n",
      "[CV] ........................ C=1000.0, gamma=250.00075, total=  43.2s\n",
      "[CV] C=1000.0, gamma=750.00025 .......................................\n",
      "[CV] ......................... C=1000.0, gamma=500.0005, total=  42.5s\n",
      "[CV] C=1000.0, gamma=750.00025 .......................................\n",
      "[CV] ......................... C=1000.0, gamma=500.0005, total=  41.7s\n",
      "[CV] C=1000.0, gamma=1000.0 ..........................................\n",
      "[CV] ........................ C=1000.0, gamma=750.00025, total=  44.3s\n",
      "[CV] C=1000.0, gamma=1000.0 ..........................................\n",
      "[CV] ........................ C=1000.0, gamma=750.00025, total=  45.1s\n",
      "[CV] C=1000.0, gamma=1000.0 ..........................................\n",
      "[CV] ........................ C=1000.0, gamma=750.00025, total=  42.8s\n",
      "[CV] ........................... C=1000.0, gamma=1000.0, total=  34.7s\n",
      "[CV] ........................... C=1000.0, gamma=1000.0, total=  41.0s\n",
      "[CV] ........................... C=1000.0, gamma=1000.0, total=  40.6s\n"
     ]
    },
    {
     "name": "stderr",
     "output_type": "stream",
     "text": [
      "[Parallel(n_jobs=-1)]: Done  75 out of  75 | elapsed: 22.3min finished\n"
     ]
    }
   ],
   "source": [
    "### BEGIN Solution\n",
    "# pick the best C and gamma\n",
    "\n",
    "parameters_4 = {'C':np.linspace(1e-3, 1e3,5, endpoint=True), 'gamma':np.linspace(1e-3, 1e3,5, endpoint=True)}\n",
    "clf_4= GridSearchCV(SVC(kernel='rbf', random_state= 42), parameters_4, scoring='roc_auc' ,verbose = 2,  n_jobs = -1)\n",
    "clf_4.fit(x_train, y_train)\n",
    "best_kernel_model = clf_4.best_estimator_\n",
    "\n",
    "### END Solution"
   ]
  },
  {
   "cell_type": "markdown",
   "metadata": {},
   "source": [
    "Plot the `ROC` curves of both models and their `ROC AUC` scores."
   ]
  },
  {
   "cell_type": "code",
   "execution_count": 418,
   "metadata": {},
   "outputs": [
    {
     "data": {
      "image/png": "[encoded data removed]",
      "text/plain": [
       "<matplotlib.figure.Figure at 0x7fa0ca409cf8>"
      ]
     },
     "metadata": {},
     "output_type": "display_data"
    }
   ],
   "source": [
    "from sklearn.metrics import roc_curve\n",
    "### BEGIN Solution\n",
    "predictions_lin = best_linear_model.decision_function(x_train)\n",
    "predictions_rbf = best_kernel_model.decision_function(x_train)\n",
    "fpr_lin, tpr_lin, _ = roc_curve(y_train, predictions_lin)\n",
    "fpr_rbf, tpr_rbf, _ = roc_curve(y_train, predictions_rbf)\n",
    "auc_lin = roc_auc_score(y_train, predictions_lin)\n",
    "auc_rbf = roc_auc_score(y_train, predictions_rbf)\n",
    "\n",
    "plt.figure(figsize = (10,7))\n",
    "plt.plot(fpr_lin, tpr_lin, color='darkorange', label='ROC curve (linear) (AUC = %0.2f)' % auc_lin)\n",
    "plt.plot(fpr_rbf, tpr_rbf, color='lawngreen', label='ROC curve (Kernel) (AUC = %0.2f)' % auc_rbf)\n",
    "plt.plot([0, 1], [0, 1], color='navy', linestyle='--')\n",
    "plt.xlim([0.0, 1.0])\n",
    "plt.ylim([0.0, 1.05])\n",
    "plt.xlabel('False Positive Rate')\n",
    "plt.ylabel('True Positive Rate')\n",
    "plt.title('ROCs')\n",
    "plt.legend(loc=\"lower right\")\n",
    "plt.show()\n",
    "### END Solution"
   ]
  },
  {
   "cell_type": "markdown",
   "metadata": {},
   "source": [
    "... and the best model is...?"
   ]
  },
  {
   "cell_type": "code",
   "execution_count": 419,
   "metadata": {},
   "outputs": [
    {
     "name": "stdout",
     "output_type": "stream",
     "text": [
      "Test ROC AUC = 0.6619753196477767\n"
     ]
    }
   ],
   "source": [
    "best_model = best_kernel_model\n",
    "test_predictions = best_model.decision_function(x_test)\n",
    "test_score = roc_auc_score(y_test, test_predictions)\n",
    "print(\"Test ROC AUC = {}\".format(test_score))"
   ]
  },
  {
   "cell_type": "markdown",
   "metadata": {},
   "source": [
    "<br/> <!--Intentionally left blank-->"
   ]
  }
 ],
 "metadata": {
  "kernelspec": {
   "display_name": "Python 3",
   "language": "python",
   "name": "python3"
  },
  "language_info": {
   "codemirror_mode": {
    "name": "ipython",
    "version": 3
   },
   "file_extension": ".py",
   "mimetype": "text/x-python",
   "name": "python",
   "nbconvert_exporter": "python",
   "pygments_lexer": "ipython3",
   "version": "3.6.3"
  }
 },
 "nbformat": 4,
 "nbformat_minor": 2
}
