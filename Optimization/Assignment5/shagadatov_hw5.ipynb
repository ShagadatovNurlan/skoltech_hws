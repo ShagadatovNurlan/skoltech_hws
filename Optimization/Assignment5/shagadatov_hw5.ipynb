{
 "cells": [
  {
   "cell_type": "markdown",
   "metadata": {},
   "source": [
    "## Problem 1."
   ]
  },
  {
   "cell_type": "code",
   "execution_count": 168,
   "metadata": {
    "collapsed": true
   },
   "outputs": [],
   "source": [
    "import numpy as np\n",
    "import cvxpy"
   ]
  },
  {
   "cell_type": "code",
   "execution_count": 169,
   "metadata": {
    "scrolled": true
   },
   "outputs": [
    {
     "name": "stdout",
     "output_type": "stream",
     "text": [
      "(20,)\n"
     ]
    }
   ],
   "source": [
    "from numpy.random import randn\n",
    "n = 20 # dimension of x's\n",
    "M = 25 # number of non-censored data points\n",
    "K = 100 # total number of points\n",
    "\n",
    "np.random.seed(1)\n",
    "c_true = randn(n)\n",
    "X = randn(n, K)\n",
    "y = np.dot(X.T, c_true) + 0.1 * np.sqrt(n) * randn(K)\n",
    "print(c_true.shape)\n",
    "\n",
    "# Reorder measurements,then censor\n",
    "sort_ind = np.argsort(y)\n",
    "X = X[:, sort_ind];\n",
    "y = y[sort_ind[:M + 1]]\n",
    "D = (y[M - 1] + y[M]) / 2\n",
    "y = y[:M]\n",
    "\n",
    "def relative_error(c_t, c):\n",
    "    return np.linalg.norm(c_t  - c) / np.linalg.norm(c_t)"
   ]
  },
  {
   "cell_type": "markdown",
   "metadata": {},
   "source": [
    "<b> Optimization problem :</b>\n",
    "\n",
    "$$minimize \\sum_{k=1}^{K} \\left( y^{(k)}-c^T x^{(k)} \\right)^2$$\n",
    "$$ s.t. \\qquad y^{(k)} = y_{k} \\qquad \\text{if} \\quad k \\leq M$$\n",
    "$$\\quad \\qquad y^{(k)} \\geq d_k \\qquad \\text{if} \\quad M< k \\leq K$$"
   ]
  },
  {
   "cell_type": "code",
   "execution_count": 170,
   "metadata": {
    "scrolled": true
   },
   "outputs": [
    {
     "name": "stdout",
     "output_type": "stream",
     "text": [
      "status of solution: optimal\n",
      "Optimal value is: 1.8860333180476694\n",
      "Error : 0.08903535527924479\n"
     ]
    }
   ],
   "source": [
    "Y = cvxpy.Variable(K)\n",
    "C = cvxpy.Variable(n)\n",
    "\n",
    "constraints = [Y[:M] == y,\n",
    "               Y[M:] >= D]\n",
    "\n",
    "objective = cvxpy.Minimize(cvxpy.norm(Y.T - C.T * X,  2) ** 2)\n",
    "\n",
    "prob = cvxpy.Problem(objective, constraints)\n",
    "prob.solve()\n",
    "\n",
    "print (\"status of solution:\", prob.status)\n",
    "print('Optimal value is: {0}'.format(prob.value))\n",
    "#print('c = {0}'.format(C.value))\n",
    "print('Error : {0}'.format(relative_error(c_true, C.value.T)))"
   ]
  },
  {
   "cell_type": "markdown",
   "metadata": {},
   "source": [
    "<b> Optimization problem :</b>\n",
    "\n",
    "$$minimize \\sum_{k=1}^{K} \\left( y_k-c^T x^{(k)} \\right)^2 \\qquad k=1, \\dots, M$$"
   ]
  },
  {
   "cell_type": "code",
   "execution_count": 171,
   "metadata": {},
   "outputs": [
    {
     "name": "stdout",
     "output_type": "stream",
     "text": [
      "status of solution: optimal\n",
      "Optimal value is: 0.9040511364289\n",
      "Error is 0.2270967016778535\n"
     ]
    }
   ],
   "source": [
    "C = cvxpy.Variable(n)\n",
    "\n",
    "objective = cvxpy.Minimize(cvxpy.norm((y - (C.T * X[:, :M]).T),  2) ** 2)\n",
    "\n",
    "prob = cvxpy.Problem(objective, [])\n",
    "prob.solve()\n",
    "\n",
    "print (\"status of solution:\", prob.status)\n",
    "print('Optimal value is: {0}'.format(prob.value))\n",
    "#print('c = {0}'.format(C.value))\n",
    "\n",
    "print('Error is {0}'.format(relative_error(c_true, C.value.T)))"
   ]
  },
  {
   "cell_type": "markdown",
   "metadata": {},
   "source": [
    "## Problem 2."
   ]
  },
  {
   "cell_type": "code",
   "execution_count": 172,
   "metadata": {
    "collapsed": true
   },
   "outputs": [],
   "source": [
    "import scipy.io as sio\n",
    "import matplotlib.pyplot as plt\n",
    "%matplotlib inline\n",
    "\n",
    "mat_contents = sio.loadmat('veh_sched_data.mat')\n",
    "\n",
    "a = mat_contents['a'][0,0]\n",
    "b = mat_contents['b'][0,0]\n",
    "c = mat_contents['c'][0,0]\n",
    "d = mat_contents['d'].squeeze()\n",
    "n = mat_contents['n'][0,0]\n",
    "smin = mat_contents['smin'].squeeze()\n",
    "smax = mat_contents['smax'].squeeze()\n",
    "tau_min = mat_contents['tau_min'].squeeze()\n",
    "tau_max = mat_contents['tau_max'].squeeze()"
   ]
  },
  {
   "cell_type": "code",
   "execution_count": 173,
   "metadata": {},
   "outputs": [
    {
     "name": "stdout",
     "output_type": "stream",
     "text": [
      "status of solution: optimal\n",
      "Optimal value is: 2617.825193522419\n"
     ]
    }
   ],
   "source": [
    "T = cvxpy.Variable(n)\n",
    "\n",
    "objective = a * d[0] ** 2 * cvxpy.inv_pos(T[0]) + b * d[0] + c * T[0]\n",
    "\n",
    "constraints = []\n",
    "\n",
    "for i in range(1, n):\n",
    "    time_i = T[i] - T[i - 1]\n",
    "    objective += a * d[i] ** 2 * cvxpy.inv_pos(time_i) + b * d[i] + c * time_i\n",
    "\n",
    "    constraints.append(smin[i] * time_i <= d[i])\n",
    "    constraints.append(smax[i] * time_i >= d[i])\n",
    "\n",
    "for i in range(n):\n",
    "    constraints.append(T[i] <= tau_max[i])\n",
    "    constraints.append(T[i] >= tau_min[i])\n",
    "    \n",
    "prob = cvxpy.Problem(cvxpy.Minimize(objective), constraints)\n",
    "prob.solve()\n",
    "\n",
    "print (\"status of solution:\", prob.status)\n",
    "print('Optimal value is: {0}'.format(prob.value))\n",
    "\n",
    "times = np.array(T.value)[:, 0]\n",
    "speeds = [d[0] / times[0]]\n",
    "\n",
    "for i in range(1, n):\n",
    "    speeds.append(d[i] / (times[i] - times[i - 1]))"
   ]
  },
  {
   "cell_type": "code",
   "execution_count": 174,
   "metadata": {},
   "outputs": [
    {
     "data": {
      "text/plain": [
       "<matplotlib.text.Text at 0x7fece9bd9278>"
      ]
     },
     "execution_count": 174,
     "metadata": {},
     "output_type": "execute_result"
    },
    {
     "data": {
      "image/png": "[encoded data removed]",
      "text/plain": [
       "<matplotlib.figure.Figure at 0x7feceed38198>"
      ]
     },
     "metadata": {},
     "output_type": "display_data"
    }
   ],
   "source": [
    "plt.figure(figsize=(10, 10))\n",
    "plt.step(times, speeds)\n",
    "plt.xlabel('Time, s')\n",
    "plt.ylabel('Speed, m/s')"
   ]
  },
  {
   "cell_type": "markdown",
   "metadata": {},
   "source": [
    "Pros and Cons:\n",
    "\n",
    "* Dynamic programming allows us to define the step. It gives us the opportunity to affect the time of optimization.\n",
    "\n",
    "* Convex optimization gives more exact solution but does it in larger time.\n",
    "\n"
   ]
  },
  {
   "cell_type": "markdown",
   "metadata": {},
   "source": [
    "## Problem 7."
   ]
  },
  {
   "cell_type": "markdown",
   "metadata": {},
   "source": [
    "<b>Optimization problem:</b>\n",
    "$$\\displaystyle \\min_{x_1,x_2 \\in \\mathbb{R}} \\quad 2x_1^2+2x_2^2 -x_1x_2 $$\n",
    "$$\\text{subject to} \\quad  2x_1+3x_2\\geq1$$\n",
    "$$\\qquad \\qquad 5x_1+4x_2 \\geq 1$$"
   ]
  },
  {
   "cell_type": "markdown",
   "metadata": {},
   "source": [
    "It can be rewritten as:\n",
    "\n",
    "$$\\displaystyle \\min_{x \\in \\mathbb{R}^2} \\quad \\frac{1}{2}x^TQx $$\n",
    "$$\\text{subject to} \\quad  Ax \\leq b$$\n",
    "\n",
    "where $Q = \\begin{pmatrix}\n",
    " 4 \\quad -1 \\\\ \n",
    "-1 \\quad 4 \n",
    "\\end{pmatrix}, \\quad A = \\begin{pmatrix}\n",
    "-2 \\quad -3 \\\\ \n",
    "-5 \\quad -4 \n",
    "\\end{pmatrix} \\quad \\text{and} \\quad b = \\begin{pmatrix}\n",
    "-1 \\\\ \n",
    "-1\n",
    "\\end{pmatrix}$"
   ]
  },
  {
   "cell_type": "code",
   "execution_count": 175,
   "metadata": {},
   "outputs": [
    {
     "name": "stdout",
     "output_type": "stream",
     "text": [
      "[[ 11.  24.]\n",
      " [ 14.  21.]]\n"
     ]
    }
   ],
   "source": [
    "Q = np.array([[4,-1],[-1,4]])\n",
    "A = - np.array([[2,3],[5,4]])\n",
    "b = np.array([-1,-1])\n",
    "\n",
    "print (-15 * np.linalg.inv(Q)@A.T)"
   ]
  },
  {
   "cell_type": "markdown",
   "metadata": {},
   "source": [
    "The Lagrangian:\n",
    "$$ L(x,\\lambda) = \\frac{1}{2}x^TQx + \\lambda^T(Ax-b)$$\n",
    "\n",
    "Then the dual function:\n",
    "$$g(\\lambda) = \\displaystyle \\min_{x} L(x,\\lambda)$$\n",
    "\n",
    "$$\\triangledown_xL(x,\\lambda) = 0 \\Leftrightarrow \n",
    "\\left\\{\\begin{matrix}\n",
    "\\frac{\\partial L(x_1,x_2,\\lambda_1,\\lambda_2)}{\\partial x_1} = 4x_1-x_2-2\\lambda_1-5\\lambda_2 = 0\\\\ \n",
    "\\frac{\\partial L(x_1,x_2,\\lambda_1,\\lambda_2)}{\\partial x_2} = 4x_2-x_1-3\\lambda_1-4\\lambda_2 = 0\n",
    "\\end{matrix}\\right.\n",
    "$$"
   ]
  },
  {
   "cell_type": "markdown",
   "metadata": {},
   "source": [
    "$$\n",
    "\\left\\{\\begin{matrix}\n",
    "x_1 =\\frac{11\\lambda_1+24\\lambda_2}{15}\\\\\n",
    "x_2 =\\frac{14\\lambda_1+21\\lambda_2}{15}\n",
    "\\end{matrix}\\right.\n",
    "$$\n",
    "\n",
    "$$g(\\lambda) = \\displaystyle \\min_{x} L(x,\\lambda) = -\\frac{1}{225}(480\\lambda_1^2+1530\\lambda_2^2+1665\\lambda_1\\lambda_2) + \\lambda_1 + \\lambda_2  = \\lambda^T W \\lambda - \\lambda^T b$$\n",
    "\n",
    "So, the dual problem:\n",
    "$$\\displaystyle \\max_{\\lambda} \\quad \\lambda^T W \\lambda - \\lambda^T b $$\n",
    "$$\\text{subject to} \\quad  \\lambda \\geq 0$$\n"
   ]
  },
  {
   "cell_type": "code",
   "execution_count": 176,
   "metadata": {},
   "outputs": [
    {
     "name": "stdout",
     "output_type": "stream",
     "text": [
      "status of solution: optimal\n",
      "Optimal value is: 0.1171874999741835\n",
      "X = [[ 0.17187506  0.21874996]]\n"
     ]
    }
   ],
   "source": [
    "X = cvxpy.Variable(2)\n",
    "\n",
    "constraints = [A*X <= b]\n",
    "\n",
    "objective = cvxpy.Minimize(cvxpy.quad_form(X, Q)/2.0)\n",
    "\n",
    "prob = cvxpy.Problem(objective, constraints)\n",
    "prob.solve()\n",
    "\n",
    "S1 = prob.value\n",
    "print (\"status of solution:\", prob.status)\n",
    "print('Optimal value is: {0}'.format(prob.value))\n",
    "print('X = {0}'.format(X.value.ravel()))\n",
    "x = X.value.ravel()"
   ]
  },
  {
   "cell_type": "code",
   "execution_count": 177,
   "metadata": {},
   "outputs": [
    {
     "name": "stdout",
     "output_type": "stream",
     "text": [
      "status of solution: optimal\n",
      "Optimal value is: 0.11718750195608359\n",
      "Lambdas = [[  2.34375101e-01   1.16758790e-09]]\n"
     ]
    }
   ],
   "source": [
    "J = cvxpy.Variable(2) #lambdas\n",
    "M = -np.array([[480/225.0, 1665/225.0/2.0],\n",
    "              [1665/225.0/2.0, 1530/225.0]])\n",
    "\n",
    "objective = cvxpy.Maximize(cvxpy.quad_form(J, M) - J.T@b)\n",
    "constraints = [J >= 0]\n",
    "\n",
    "\n",
    "prob = cvxpy.Problem(objective, constraints)\n",
    "prob.solve()\n",
    "S2 = prob.value\n",
    "print (\"status of solution:\", prob.status)\n",
    "print('Optimal value is: {0}'.format(prob.value))\n",
    "print('Lambdas = {0}'.format(J.value.ravel()))\n",
    "lambdas = J.value.ravel()"
   ]
  },
  {
   "cell_type": "code",
   "execution_count": 178,
   "metadata": {},
   "outputs": [
    {
     "name": "stdout",
     "output_type": "stream",
     "text": [
      "-1.9819000884879756e-09\n"
     ]
    }
   ],
   "source": [
    "print (S1-S2)"
   ]
  },
  {
   "cell_type": "markdown",
   "metadata": {},
   "source": [
    "<b>Optimal value is the same 0.11718750 for dual and primal problems </b>"
   ]
  },
  {
   "cell_type": "markdown",
   "metadata": {},
   "source": [
    "<b>KKT</b>"
   ]
  },
  {
   "cell_type": "code",
   "execution_count": 179,
   "metadata": {},
   "outputs": [
    {
     "name": "stdout",
     "output_type": "stream",
     "text": [
      "x =  [[ 0.17187506  0.21874996]]\n",
      "lambdas =  [[  2.34375101e-01   1.16758790e-09]]\n"
     ]
    }
   ],
   "source": [
    "print ('x = ', x)\n",
    "print ('lambdas = ', lambdas)"
   ]
  },
  {
   "cell_type": "markdown",
   "metadata": {},
   "source": [
    "* <b>vanishing gradient</b>\n",
    "\n",
    "$\\triangledown f_0(x^*)+\\sum\\lambda_i^*\\triangledown f_i(x^*)=0$"
   ]
  },
  {
   "cell_type": "code",
   "execution_count": 180,
   "metadata": {},
   "outputs": [
    {
     "name": "stdout",
     "output_type": "stream",
     "text": [
      "[[  9.36615287e-08]\n",
      " [ -4.68750746e-01]]\n"
     ]
    }
   ],
   "source": [
    "print (Q@x.T + A@lambdas.T)"
   ]
  },
  {
   "cell_type": "markdown",
   "metadata": {},
   "source": [
    "\n",
    "* <b>primal feasibility<b>\n",
    "\n",
    "$f_i(x^*) \\leq 0$"
   ]
  },
  {
   "cell_type": "code",
   "execution_count": 181,
   "metadata": {},
   "outputs": [
    {
     "name": "stdout",
     "output_type": "stream",
     "text": [
      "[[ True  True]]\n"
     ]
    }
   ],
   "source": [
    "print ((A@x.T).T-b<=0)"
   ]
  },
  {
   "cell_type": "markdown",
   "metadata": {},
   "source": [
    "* <b>dual feasibility</b>\n",
    "\n",
    "$\\lambda_i^*\\geq0$"
   ]
  },
  {
   "cell_type": "code",
   "execution_count": 182,
   "metadata": {},
   "outputs": [
    {
     "name": "stdout",
     "output_type": "stream",
     "text": [
      "[[ True  True]]\n"
     ]
    }
   ],
   "source": [
    "print (lambdas>=0)"
   ]
  },
  {
   "cell_type": "markdown",
   "metadata": {},
   "source": [
    "*<b>complementary slackness</b>\n",
    "\n",
    "$\\lambda_i^* f_i(x^*)=0$"
   ]
  },
  {
   "cell_type": "code",
   "execution_count": 183,
   "metadata": {},
   "outputs": [
    {
     "name": "stdout",
     "output_type": "stream",
     "text": [
      "[[ -1.19759983e-11  -1.72119251e-01]]\n"
     ]
    }
   ],
   "source": [
    "print (lambdas @ (A@x.T - b).T)"
   ]
  }
 ],
 "metadata": {
  "kernelspec": {
   "display_name": "Python 3",
   "language": "python",
   "name": "python3"
  },
  "language_info": {
   "codemirror_mode": {
    "name": "ipython",
    "version": 3
   },
   "file_extension": ".py",
   "mimetype": "text/x-python",
   "name": "python",
   "nbconvert_exporter": "python",
   "pygments_lexer": "ipython3",
   "version": "3.6.2"
  }
 },
 "nbformat": 4,
 "nbformat_minor": 2
}
